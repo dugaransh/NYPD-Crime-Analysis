{
 "cells": [
  {
   "cell_type": "markdown",
   "metadata": {},
   "source": [
    "# Data Science Engineering \n",
    "\n",
    "Topic : **Crime Analytics using NYPD Historical Complaint Data**<br>\n",
    "Dataset Link : https://www.kaggle.com/datasets/supreeth888/nypd-data<br>\n",
    "\n",
    "Algorithms Used: K-Means,KNearest Neighbour , Support Vector Machine , Linear Regression , Multinomial Naive Bayes and Gaussian Naive Bayes"
   ]
  },
  {
   "cell_type": "markdown",
   "metadata": {},
   "source": [
    "# Data Extraction"
   ]
  },
  {
   "cell_type": "markdown",
   "metadata": {},
   "source": [
    "**Importing all required Libraries**"
   ]
  },
  {
   "cell_type": "code",
   "execution_count": 1,
   "metadata": {
    "id": "yzO-S82Ceywj"
   },
   "outputs": [],
   "source": [
    "import numpy as np\n",
    "import pandas as pd\n",
    "from sklearn.linear_model import LinearRegression\n",
    "from sklearn.model_selection import train_test_split\n",
    "from sklearn.metrics import accuracy_score\n",
    "import matplotlib.pyplot as plt\n",
    "from sklearn.svm import SVR\n",
    "from sklearn.metrics import mean_squared_error, r2_score\n",
    "import os\n",
    "import warnings\n",
    "warnings.filterwarnings('ignore')\n",
    "import math\n",
    "from sklearn import preprocessing\n",
    "from sklearn.neighbors import KNeighborsRegressor\n",
    "from sklearn.linear_model import LinearRegression\n",
    "from sklearn.tree import DecisionTreeRegressor\n",
    "import pickle\n",
    "import seaborn as sns\n",
    "import re\n",
    "from nltk.stem import PorterStemmer\n",
    "from nltk.corpus import stopwords\n",
    "from sklearn.feature_extraction.text import TfidfVectorizer\n",
    "from sklearn.cluster import KMeans\n",
    "from sklearn.decomposition import PCA\n",
    "from sklearn.naive_bayes import GaussianNB, MultinomialNB"
   ]
  },
  {
   "cell_type": "markdown",
   "metadata": {},
   "source": [
    "**Reading the dataset using pandas**"
   ]
  },
  {
   "cell_type": "code",
   "execution_count": 2,
   "metadata": {
    "colab": {
     "base_uri": "https://localhost:8080/",
     "height": 518
    },
    "id": "G9ReyMDHfp-S",
    "outputId": "f68953c4-1b9b-49bd-ea97-02a480e966ae"
   },
   "outputs": [
    {
     "data": {
      "text/html": [
       "<div>\n",
       "<style scoped>\n",
       "    .dataframe tbody tr th:only-of-type {\n",
       "        vertical-align: middle;\n",
       "    }\n",
       "\n",
       "    .dataframe tbody tr th {\n",
       "        vertical-align: top;\n",
       "    }\n",
       "\n",
       "    .dataframe thead th {\n",
       "        text-align: right;\n",
       "    }\n",
       "</style>\n",
       "<table border=\"1\" class=\"dataframe\">\n",
       "  <thead>\n",
       "    <tr style=\"text-align: right;\">\n",
       "      <th></th>\n",
       "      <th>CMPLNT_NUM</th>\n",
       "      <th>CMPLNT_FR_DT</th>\n",
       "      <th>CMPLNT_FR_TM</th>\n",
       "      <th>CMPLNT_TO_DT</th>\n",
       "      <th>CMPLNT_TO_TM</th>\n",
       "      <th>ADDR_PCT_CD</th>\n",
       "      <th>RPT_DT</th>\n",
       "      <th>KY_CD</th>\n",
       "      <th>OFNS_DESC</th>\n",
       "      <th>PD_CD</th>\n",
       "      <th>...</th>\n",
       "      <th>SUSP_SEX</th>\n",
       "      <th>TRANSIT_DISTRICT</th>\n",
       "      <th>Latitude</th>\n",
       "      <th>Longitude</th>\n",
       "      <th>Lat_Lon</th>\n",
       "      <th>PATROL_BORO</th>\n",
       "      <th>STATION_NAME</th>\n",
       "      <th>VIC_AGE_GROUP</th>\n",
       "      <th>VIC_RACE</th>\n",
       "      <th>VIC_SEX</th>\n",
       "    </tr>\n",
       "  </thead>\n",
       "  <tbody>\n",
       "    <tr>\n",
       "      <th>0</th>\n",
       "      <td>394506329</td>\n",
       "      <td>12/31/2019</td>\n",
       "      <td>17:30:00</td>\n",
       "      <td>NaN</td>\n",
       "      <td>NaN</td>\n",
       "      <td>32.0</td>\n",
       "      <td>12/31/2019</td>\n",
       "      <td>118</td>\n",
       "      <td>DANGEROUS WEAPONS</td>\n",
       "      <td>793.0</td>\n",
       "      <td>...</td>\n",
       "      <td>NaN</td>\n",
       "      <td>NaN</td>\n",
       "      <td>40.820927</td>\n",
       "      <td>-73.943324</td>\n",
       "      <td>(40.82092679700002, -73.94332421899996)</td>\n",
       "      <td>PATROL BORO MAN NORTH</td>\n",
       "      <td>NaN</td>\n",
       "      <td>UNKNOWN</td>\n",
       "      <td>UNKNOWN</td>\n",
       "      <td>E</td>\n",
       "    </tr>\n",
       "    <tr>\n",
       "      <th>1</th>\n",
       "      <td>968873685</td>\n",
       "      <td>12/29/2019</td>\n",
       "      <td>16:31:00</td>\n",
       "      <td>12/29/2019</td>\n",
       "      <td>16:54:00</td>\n",
       "      <td>47.0</td>\n",
       "      <td>12/29/2019</td>\n",
       "      <td>113</td>\n",
       "      <td>FORGERY</td>\n",
       "      <td>729.0</td>\n",
       "      <td>...</td>\n",
       "      <td>NaN</td>\n",
       "      <td>NaN</td>\n",
       "      <td>40.885701</td>\n",
       "      <td>-73.861640</td>\n",
       "      <td>(40.885701406000074, -73.86164032499995)</td>\n",
       "      <td>PATROL BORO BRONX</td>\n",
       "      <td>NaN</td>\n",
       "      <td>UNKNOWN</td>\n",
       "      <td>UNKNOWN</td>\n",
       "      <td>E</td>\n",
       "    </tr>\n",
       "    <tr>\n",
       "      <th>2</th>\n",
       "      <td>509837549</td>\n",
       "      <td>12/15/2019</td>\n",
       "      <td>18:45:00</td>\n",
       "      <td>NaN</td>\n",
       "      <td>NaN</td>\n",
       "      <td>109.0</td>\n",
       "      <td>12/29/2019</td>\n",
       "      <td>578</td>\n",
       "      <td>HARRASSMENT 2</td>\n",
       "      <td>638.0</td>\n",
       "      <td>...</td>\n",
       "      <td>M</td>\n",
       "      <td>NaN</td>\n",
       "      <td>40.742281</td>\n",
       "      <td>-73.819824</td>\n",
       "      <td>(40.74228115600005, -73.81982408)</td>\n",
       "      <td>PATROL BORO QUEENS NORTH</td>\n",
       "      <td>NaN</td>\n",
       "      <td>25-44</td>\n",
       "      <td>WHITE HISPANIC</td>\n",
       "      <td>F</td>\n",
       "    </tr>\n",
       "    <tr>\n",
       "      <th>3</th>\n",
       "      <td>352454313</td>\n",
       "      <td>12/28/2019</td>\n",
       "      <td>01:00:00</td>\n",
       "      <td>NaN</td>\n",
       "      <td>NaN</td>\n",
       "      <td>47.0</td>\n",
       "      <td>12/28/2019</td>\n",
       "      <td>126</td>\n",
       "      <td>MISCELLANEOUS PENAL LAW</td>\n",
       "      <td>117.0</td>\n",
       "      <td>...</td>\n",
       "      <td>M</td>\n",
       "      <td>NaN</td>\n",
       "      <td>40.875311</td>\n",
       "      <td>-73.847545</td>\n",
       "      <td>(40.87531145100007, -73.84754521099995)</td>\n",
       "      <td>PATROL BORO BRONX</td>\n",
       "      <td>NaN</td>\n",
       "      <td>UNKNOWN</td>\n",
       "      <td>UNKNOWN</td>\n",
       "      <td>E</td>\n",
       "    </tr>\n",
       "    <tr>\n",
       "      <th>4</th>\n",
       "      <td>248803469</td>\n",
       "      <td>09/05/2008</td>\n",
       "      <td>21:41:00</td>\n",
       "      <td>NaN</td>\n",
       "      <td>NaN</td>\n",
       "      <td>NaN</td>\n",
       "      <td>09/05/2008</td>\n",
       "      <td>101</td>\n",
       "      <td>MURDER &amp; NON-NEGL. MANSLAUGHTER</td>\n",
       "      <td>NaN</td>\n",
       "      <td>...</td>\n",
       "      <td>NaN</td>\n",
       "      <td>NaN</td>\n",
       "      <td>40.698827</td>\n",
       "      <td>-73.938819</td>\n",
       "      <td>(40.698827283, -73.938819047)</td>\n",
       "      <td>NaN</td>\n",
       "      <td>NaN</td>\n",
       "      <td>25-44</td>\n",
       "      <td>BLACK</td>\n",
       "      <td>M</td>\n",
       "    </tr>\n",
       "  </tbody>\n",
       "</table>\n",
       "<p>5 rows × 35 columns</p>\n",
       "</div>"
      ],
      "text/plain": [
       "   CMPLNT_NUM CMPLNT_FR_DT CMPLNT_FR_TM CMPLNT_TO_DT CMPLNT_TO_TM  \\\n",
       "0   394506329   12/31/2019     17:30:00          NaN          NaN   \n",
       "1   968873685   12/29/2019     16:31:00   12/29/2019     16:54:00   \n",
       "2   509837549   12/15/2019     18:45:00          NaN          NaN   \n",
       "3   352454313   12/28/2019     01:00:00          NaN          NaN   \n",
       "4   248803469   09/05/2008     21:41:00          NaN          NaN   \n",
       "\n",
       "   ADDR_PCT_CD      RPT_DT  KY_CD                        OFNS_DESC  PD_CD  \\\n",
       "0         32.0  12/31/2019    118                DANGEROUS WEAPONS  793.0   \n",
       "1         47.0  12/29/2019    113                          FORGERY  729.0   \n",
       "2        109.0  12/29/2019    578                    HARRASSMENT 2  638.0   \n",
       "3         47.0  12/28/2019    126          MISCELLANEOUS PENAL LAW  117.0   \n",
       "4          NaN  09/05/2008    101  MURDER & NON-NEGL. MANSLAUGHTER    NaN   \n",
       "\n",
       "   ... SUSP_SEX TRANSIT_DISTRICT   Latitude  Longitude  \\\n",
       "0  ...      NaN              NaN  40.820927 -73.943324   \n",
       "1  ...      NaN              NaN  40.885701 -73.861640   \n",
       "2  ...        M              NaN  40.742281 -73.819824   \n",
       "3  ...        M              NaN  40.875311 -73.847545   \n",
       "4  ...      NaN              NaN  40.698827 -73.938819   \n",
       "\n",
       "                                    Lat_Lon               PATROL_BORO  \\\n",
       "0   (40.82092679700002, -73.94332421899996)     PATROL BORO MAN NORTH   \n",
       "1  (40.885701406000074, -73.86164032499995)         PATROL BORO BRONX   \n",
       "2         (40.74228115600005, -73.81982408)  PATROL BORO QUEENS NORTH   \n",
       "3   (40.87531145100007, -73.84754521099995)         PATROL BORO BRONX   \n",
       "4             (40.698827283, -73.938819047)                       NaN   \n",
       "\n",
       "  STATION_NAME  VIC_AGE_GROUP        VIC_RACE VIC_SEX  \n",
       "0          NaN        UNKNOWN         UNKNOWN       E  \n",
       "1          NaN        UNKNOWN         UNKNOWN       E  \n",
       "2          NaN          25-44  WHITE HISPANIC       F  \n",
       "3          NaN        UNKNOWN         UNKNOWN       E  \n",
       "4          NaN          25-44           BLACK       M  \n",
       "\n",
       "[5 rows x 35 columns]"
      ]
     },
     "execution_count": 2,
     "metadata": {},
     "output_type": "execute_result"
    }
   ],
   "source": [
    "df =pd.read_csv(\"NYPD_Complaint_Data_Historic.csv\", low_memory = False)\n",
    "df.head()"
   ]
  },
  {
   "cell_type": "markdown",
   "metadata": {},
   "source": [
    "# Data Preprocessing"
   ]
  },
  {
   "cell_type": "markdown",
   "metadata": {},
   "source": [
    "### **Checking For NULL Values and plotting them**"
   ]
  },
  {
   "cell_type": "code",
   "execution_count": 5,
   "metadata": {},
   "outputs": [],
   "source": [
    "null_ind = df.isnull().sum().index\n",
    "null_val = df.isnull().sum().values"
   ]
  },
  {
   "cell_type": "code",
   "execution_count": 6,
   "metadata": {},
   "outputs": [
    {
     "data": {
      "text/plain": [
       "<BarContainer object of 35 artists>"
      ]
     },
     "execution_count": 6,
     "metadata": {},
     "output_type": "execute_result"
    },
    {
     "data": {
      "image/png": "[encoded data removed]",
      "text/plain": [
       "<Figure size 2520x720 with 1 Axes>"
      ]
     },
     "metadata": {
      "needs_background": "light"
     },
     "output_type": "display_data"
    }
   ],
   "source": [
    "plt.figure(figsize = (35,10))\n",
    "plt.bar(null_ind,null_val , linewidth = 0.01)"
   ]
  },
  {
   "cell_type": "markdown",
   "metadata": {},
   "source": [
    "### **Droping the Unwanted and Columns with high NULL values and thus cleaning the Data**"
   ]
  },
  {
   "cell_type": "code",
   "execution_count": 7,
   "metadata": {
    "id": "UY74vE4oQb5D"
   },
   "outputs": [],
   "source": [
    "df.drop(['PARKS_NM','STATION_NAME','TRANSIT_DISTRICT','HADEVELOPT','HOUSING_PSA','PD_CD','Lat_Lon','X_COORD_CD','Y_COORD_CD','JURISDICTION_CODE'], axis = 1, inplace=True)"
   ]
  },
  {
   "cell_type": "code",
   "execution_count": 8,
   "metadata": {},
   "outputs": [],
   "source": [
    "df.drop(['SUSP_AGE_GROUP','SUSP_SEX','SUSP_RACE','CMPLNT_TO_DT','CMPLNT_TO_TM','VIC_AGE_GROUP','LOC_OF_OCCUR_DESC','PREM_TYP_DESC'], axis = 1, inplace = True)"
   ]
  },
  {
   "cell_type": "markdown",
   "metadata": {},
   "source": [
    "# Algorithm 1 & 2 : Using **Support Vector Machine** and **Linear Regression**, we predicted the last **25 days** of the year **2019**"
   ]
  },
  {
   "cell_type": "markdown",
   "metadata": {},
   "source": [
    "### Since we are predicting Time Series we will be extracting the Report Date Column and then converting it into Datetime Format|"
   ]
  },
  {
   "cell_type": "code",
   "execution_count": 9,
   "metadata": {
    "id": "h5_uwjw_f4vw"
   },
   "outputs": [],
   "source": [
    "df2_svm_lr = df['RPT_DT']\n",
    "df2_svm_lr = pd.DataFrame(df2_svm_lr)\n",
    "df2_svm_lr['RPT_DT'] = pd.to_datetime(df2_svm_lr['RPT_DT'], format='%m/%d/%Y')"
   ]
  },
  {
   "cell_type": "markdown",
   "metadata": {},
   "source": [
    "### Checking for any Null Values and Dropping them"
   ]
  },
  {
   "cell_type": "markdown",
   "metadata": {},
   "source": [
    "Using isna() to check for null values in the column"
   ]
  },
  {
   "cell_type": "code",
   "execution_count": 10,
   "metadata": {
    "colab": {
     "base_uri": "https://localhost:8080/",
     "height": 419
    },
    "id": "Q9N89gaFg-jz",
    "outputId": "e0738e4f-136a-41e1-e8c4-785e4a33aab1"
   },
   "outputs": [
    {
     "data": {
      "text/plain": [
       "RPT_DT    0\n",
       "dtype: int64"
      ]
     },
     "execution_count": 10,
     "metadata": {},
     "output_type": "execute_result"
    }
   ],
   "source": [
    "df2_svm_lr.isna().sum()"
   ]
  },
  {
   "cell_type": "markdown",
   "metadata": {},
   "source": [
    "Using dropna() to drop null values in the column"
   ]
  },
  {
   "cell_type": "code",
   "execution_count": 11,
   "metadata": {},
   "outputs": [
    {
     "data": {
      "text/html": [
       "<div>\n",
       "<style scoped>\n",
       "    .dataframe tbody tr th:only-of-type {\n",
       "        vertical-align: middle;\n",
       "    }\n",
       "\n",
       "    .dataframe tbody tr th {\n",
       "        vertical-align: top;\n",
       "    }\n",
       "\n",
       "    .dataframe thead th {\n",
       "        text-align: right;\n",
       "    }\n",
       "</style>\n",
       "<table border=\"1\" class=\"dataframe\">\n",
       "  <thead>\n",
       "    <tr style=\"text-align: right;\">\n",
       "      <th></th>\n",
       "      <th>RPT_DT</th>\n",
       "    </tr>\n",
       "  </thead>\n",
       "  <tbody>\n",
       "    <tr>\n",
       "      <th>0</th>\n",
       "      <td>2019-12-31</td>\n",
       "    </tr>\n",
       "    <tr>\n",
       "      <th>1</th>\n",
       "      <td>2019-12-29</td>\n",
       "    </tr>\n",
       "    <tr>\n",
       "      <th>2</th>\n",
       "      <td>2019-12-29</td>\n",
       "    </tr>\n",
       "    <tr>\n",
       "      <th>3</th>\n",
       "      <td>2019-12-28</td>\n",
       "    </tr>\n",
       "    <tr>\n",
       "      <th>4</th>\n",
       "      <td>2008-09-05</td>\n",
       "    </tr>\n",
       "    <tr>\n",
       "      <th>...</th>\n",
       "      <td>...</td>\n",
       "    </tr>\n",
       "    <tr>\n",
       "      <th>7825494</th>\n",
       "      <td>2018-12-17</td>\n",
       "    </tr>\n",
       "    <tr>\n",
       "      <th>7825495</th>\n",
       "      <td>2018-06-07</td>\n",
       "    </tr>\n",
       "    <tr>\n",
       "      <th>7825496</th>\n",
       "      <td>2018-02-10</td>\n",
       "    </tr>\n",
       "    <tr>\n",
       "      <th>7825497</th>\n",
       "      <td>2018-12-11</td>\n",
       "    </tr>\n",
       "    <tr>\n",
       "      <th>7825498</th>\n",
       "      <td>2018-05-10</td>\n",
       "    </tr>\n",
       "  </tbody>\n",
       "</table>\n",
       "<p>7825499 rows × 1 columns</p>\n",
       "</div>"
      ],
      "text/plain": [
       "            RPT_DT\n",
       "0       2019-12-31\n",
       "1       2019-12-29\n",
       "2       2019-12-29\n",
       "3       2019-12-28\n",
       "4       2008-09-05\n",
       "...            ...\n",
       "7825494 2018-12-17\n",
       "7825495 2018-06-07\n",
       "7825496 2018-02-10\n",
       "7825497 2018-12-11\n",
       "7825498 2018-05-10\n",
       "\n",
       "[7825499 rows x 1 columns]"
      ]
     },
     "execution_count": 11,
     "metadata": {},
     "output_type": "execute_result"
    }
   ],
   "source": [
    "df2_svm_lr.dropna()"
   ]
  },
  {
   "cell_type": "markdown",
   "metadata": {},
   "source": [
    "**Finding the amount of crime that was reported on each date**"
   ]
  },
  {
   "cell_type": "code",
   "execution_count": 12,
   "metadata": {},
   "outputs": [
    {
     "data": {
      "text/plain": [
       "2007-05-29    1891\n",
       "2006-11-01    1875\n",
       "2007-10-23    1853\n",
       "2007-06-05    1821\n",
       "2008-07-29    1791\n",
       "              ... \n",
       "2010-12-26     568\n",
       "2021-02-01     518\n",
       "2017-03-14     514\n",
       "2012-10-29     423\n",
       "2010-12-27     334\n",
       "Name: RPT_DT, Length: 5844, dtype: int64"
      ]
     },
     "execution_count": 12,
     "metadata": {},
     "output_type": "execute_result"
    }
   ],
   "source": [
    "df2_svm_lr['RPT_DT'].value_counts()"
   ]
  },
  {
   "cell_type": "markdown",
   "metadata": {},
   "source": [
    "Seprating the date and the amount fo crimes to form a dataset and then extracting only the year which will be later used to sort according to the 2019 data"
   ]
  },
  {
   "cell_type": "code",
   "execution_count": 13,
   "metadata": {
    "id": "gsXxODxlg_qa"
   },
   "outputs": [],
   "source": [
    "ind = df2_svm_lr['RPT_DT'].value_counts().index\n",
    "num = df2_svm_lr['RPT_DT'].value_counts().values"
   ]
  },
  {
   "cell_type": "code",
   "execution_count": 14,
   "metadata": {
    "colab": {
     "base_uri": "https://localhost:8080/",
     "height": 419
    },
    "id": "EO8gEH21hLW2",
    "outputId": "3cd10c41-4f45-4538-f027-1372f9144ceb"
   },
   "outputs": [
    {
     "data": {
      "text/html": [
       "<div>\n",
       "<style scoped>\n",
       "    .dataframe tbody tr th:only-of-type {\n",
       "        vertical-align: middle;\n",
       "    }\n",
       "\n",
       "    .dataframe tbody tr th {\n",
       "        vertical-align: top;\n",
       "    }\n",
       "\n",
       "    .dataframe thead th {\n",
       "        text-align: right;\n",
       "    }\n",
       "</style>\n",
       "<table border=\"1\" class=\"dataframe\">\n",
       "  <thead>\n",
       "    <tr style=\"text-align: right;\">\n",
       "      <th></th>\n",
       "      <th>Date</th>\n",
       "      <th>Crime</th>\n",
       "      <th>Year</th>\n",
       "    </tr>\n",
       "  </thead>\n",
       "  <tbody>\n",
       "    <tr>\n",
       "      <th>3189</th>\n",
       "      <td>2006-01-01</td>\n",
       "      <td>1331</td>\n",
       "      <td>2006</td>\n",
       "    </tr>\n",
       "    <tr>\n",
       "      <th>3578</th>\n",
       "      <td>2006-01-02</td>\n",
       "      <td>1299</td>\n",
       "      <td>2006</td>\n",
       "    </tr>\n",
       "    <tr>\n",
       "      <th>2855</th>\n",
       "      <td>2006-01-03</td>\n",
       "      <td>1359</td>\n",
       "      <td>2006</td>\n",
       "    </tr>\n",
       "    <tr>\n",
       "      <th>416</th>\n",
       "      <td>2006-01-04</td>\n",
       "      <td>1590</td>\n",
       "      <td>2006</td>\n",
       "    </tr>\n",
       "    <tr>\n",
       "      <th>272</th>\n",
       "      <td>2006-01-05</td>\n",
       "      <td>1619</td>\n",
       "      <td>2006</td>\n",
       "    </tr>\n",
       "    <tr>\n",
       "      <th>...</th>\n",
       "      <td>...</td>\n",
       "      <td>...</td>\n",
       "      <td>...</td>\n",
       "    </tr>\n",
       "    <tr>\n",
       "      <th>4071</th>\n",
       "      <td>2021-12-27</td>\n",
       "      <td>1255</td>\n",
       "      <td>2021</td>\n",
       "    </tr>\n",
       "    <tr>\n",
       "      <th>4372</th>\n",
       "      <td>2021-12-28</td>\n",
       "      <td>1227</td>\n",
       "      <td>2021</td>\n",
       "    </tr>\n",
       "    <tr>\n",
       "      <th>3358</th>\n",
       "      <td>2021-12-29</td>\n",
       "      <td>1318</td>\n",
       "      <td>2021</td>\n",
       "    </tr>\n",
       "    <tr>\n",
       "      <th>4156</th>\n",
       "      <td>2021-12-30</td>\n",
       "      <td>1247</td>\n",
       "      <td>2021</td>\n",
       "    </tr>\n",
       "    <tr>\n",
       "      <th>4561</th>\n",
       "      <td>2021-12-31</td>\n",
       "      <td>1205</td>\n",
       "      <td>2021</td>\n",
       "    </tr>\n",
       "  </tbody>\n",
       "</table>\n",
       "<p>5844 rows × 3 columns</p>\n",
       "</div>"
      ],
      "text/plain": [
       "           Date  Crime  Year\n",
       "3189 2006-01-01   1331  2006\n",
       "3578 2006-01-02   1299  2006\n",
       "2855 2006-01-03   1359  2006\n",
       "416  2006-01-04   1590  2006\n",
       "272  2006-01-05   1619  2006\n",
       "...         ...    ...   ...\n",
       "4071 2021-12-27   1255  2021\n",
       "4372 2021-12-28   1227  2021\n",
       "3358 2021-12-29   1318  2021\n",
       "4156 2021-12-30   1247  2021\n",
       "4561 2021-12-31   1205  2021\n",
       "\n",
       "[5844 rows x 3 columns]"
      ]
     },
     "execution_count": 14,
     "metadata": {},
     "output_type": "execute_result"
    }
   ],
   "source": [
    "df3 = pd.DataFrame(ind , columns = ['Date'])\n",
    "df3['Crime'] = num\n",
    "df3 = df3.sort_values('Date')\n",
    "df3['Date'] = pd.to_datetime(df3['Date'], format='%m/%d/%Y')\n",
    "df3['Year'] = df3['Date'].dt.year\n",
    "df3"
   ]
  },
  {
   "cell_type": "markdown",
   "metadata": {},
   "source": [
    "**Forming a new Dataset with only 2019 Data**"
   ]
  },
  {
   "cell_type": "code",
   "execution_count": 15,
   "metadata": {
    "id": "RQWrD6KuhPKU"
   },
   "outputs": [],
   "source": [
    "yr = df3.loc[df3['Year'] == 2019]"
   ]
  },
  {
   "cell_type": "code",
   "execution_count": 16,
   "metadata": {
    "colab": {
     "base_uri": "https://localhost:8080/"
    },
    "id": "tUDYDEWphgqI",
    "outputId": "a5346b5f-9072-4dfe-eefe-3ab7faf7bd44"
   },
   "outputs": [
    {
     "data": {
      "text/plain": [
       "(365, 1)"
      ]
     },
     "execution_count": 16,
     "metadata": {},
     "output_type": "execute_result"
    }
   ],
   "source": [
    "yr =yr.set_index('Date')\n",
    "yr = yr.drop('Year' , axis = 1)\n",
    "yr.shape"
   ]
  },
  {
   "cell_type": "markdown",
   "metadata": {},
   "source": [
    "Plotting the Crime Rate in 2019 using a Line Graph"
   ]
  },
  {
   "cell_type": "code",
   "execution_count": 17,
   "metadata": {
    "colab": {
     "base_uri": "https://localhost:8080/",
     "height": 521
    },
    "id": "tBM23ABMhl-q",
    "outputId": "b75122fc-2b0d-40d8-e395-6d0eca9b6deb"
   },
   "outputs": [
    {
     "data": {
      "image/png": "[encoded data removed]",
      "text/plain": [
       "<Figure size 1440x576 with 1 Axes>"
      ]
     },
     "metadata": {
      "needs_background": "light"
     },
     "output_type": "display_data"
    }
   ],
   "source": [
    "plt.figure(figsize=(20,8))\n",
    "plt.plot(yr['Crime'])\n",
    "plt.title('Crime Rate in 2019')\n",
    "plt.xlabel('Date', fontsize = 18)\n",
    "plt.show()"
   ]
  },
  {
   "cell_type": "markdown",
   "metadata": {},
   "source": [
    "**Here we store the No of days in a variable top call it anytime and then Create a new column 'Prediction' and shift it 25 Days less so that it can be predicted**"
   ]
  },
  {
   "cell_type": "code",
   "execution_count": 18,
   "metadata": {
    "colab": {
     "base_uri": "https://localhost:8080/",
     "height": 204
    },
    "id": "YK9JtNmjhoQD",
    "outputId": "bc666269-e8a5-4f21-bfad-93ca6b39e817"
   },
   "outputs": [
    {
     "data": {
      "text/html": [
       "<div>\n",
       "<style scoped>\n",
       "    .dataframe tbody tr th:only-of-type {\n",
       "        vertical-align: middle;\n",
       "    }\n",
       "\n",
       "    .dataframe tbody tr th {\n",
       "        vertical-align: top;\n",
       "    }\n",
       "\n",
       "    .dataframe thead th {\n",
       "        text-align: right;\n",
       "    }\n",
       "</style>\n",
       "<table border=\"1\" class=\"dataframe\">\n",
       "  <thead>\n",
       "    <tr style=\"text-align: right;\">\n",
       "      <th></th>\n",
       "      <th>Crime</th>\n",
       "      <th>Prediction</th>\n",
       "    </tr>\n",
       "    <tr>\n",
       "      <th>Date</th>\n",
       "      <th></th>\n",
       "      <th></th>\n",
       "    </tr>\n",
       "  </thead>\n",
       "  <tbody>\n",
       "    <tr>\n",
       "      <th>2019-12-28</th>\n",
       "      <td>1147</td>\n",
       "      <td>NaN</td>\n",
       "    </tr>\n",
       "    <tr>\n",
       "      <th>2019-12-29</th>\n",
       "      <td>1014</td>\n",
       "      <td>NaN</td>\n",
       "    </tr>\n",
       "    <tr>\n",
       "      <th>2019-12-30</th>\n",
       "      <td>1141</td>\n",
       "      <td>NaN</td>\n",
       "    </tr>\n",
       "    <tr>\n",
       "      <th>2019-12-31</th>\n",
       "      <td>1067</td>\n",
       "      <td>NaN</td>\n",
       "    </tr>\n",
       "  </tbody>\n",
       "</table>\n",
       "</div>"
      ],
      "text/plain": [
       "            Crime  Prediction\n",
       "Date                         \n",
       "2019-12-28   1147         NaN\n",
       "2019-12-29   1014         NaN\n",
       "2019-12-30   1141         NaN\n",
       "2019-12-31   1067         NaN"
      ]
     },
     "execution_count": 18,
     "metadata": {},
     "output_type": "execute_result"
    }
   ],
   "source": [
    "days_to_predict = 25\n",
    "yr['Prediction'] = yr['Crime'].shift(-days_to_predict)\n",
    "yr.tail(4)"
   ]
  },
  {
   "cell_type": "markdown",
   "metadata": {},
   "source": [
    "Storing Values of X and y"
   ]
  },
  {
   "cell_type": "code",
   "execution_count": 19,
   "metadata": {
    "id": "8W7HFVyiiE4_"
   },
   "outputs": [],
   "source": [
    "X = np.array(yr.drop(['Prediction'], axis = 1))[:-days_to_predict]"
   ]
  },
  {
   "cell_type": "code",
   "execution_count": 20,
   "metadata": {
    "colab": {
     "base_uri": "https://localhost:8080/"
    },
    "id": "W-fXGYB_iebr",
    "outputId": "e9d029d9-e668-4150-ba49-db2e75586a68"
   },
   "outputs": [],
   "source": [
    "y = np.array(yr['Prediction'])[:-days_to_predict]"
   ]
  },
  {
   "cell_type": "markdown",
   "metadata": {},
   "source": [
    "Using the sklearn Module we retrieve  train test split, SVM and Linear Regression . WE split the data into 70%-30% format"
   ]
  },
  {
   "cell_type": "code",
   "execution_count": 21,
   "metadata": {
    "id": "NScrfP64jAPB"
   },
   "outputs": [],
   "source": [
    "X_train , X_test , y_train , y_test = train_test_split(X,y,test_size = 0.3 , random_state = 42)"
   ]
  },
  {
   "cell_type": "code",
   "execution_count": 22,
   "metadata": {
    "colab": {
     "base_uri": "https://localhost:8080/"
    },
    "id": "KaDW5DZ9jf6M",
    "outputId": "ce323871-770f-4744-bd2b-75e603501091"
   },
   "outputs": [
    {
     "data": {
      "text/plain": [
       "SVR(C=1000.0, gamma=0.1)"
      ]
     },
     "execution_count": 22,
     "metadata": {},
     "output_type": "execute_result"
    }
   ],
   "source": [
    "svr = SVR(kernel='rbf', C=1e3, gamma=0.1)\n",
    "svr.fit(X_train, y_train)"
   ]
  },
  {
   "cell_type": "code",
   "execution_count": 23,
   "metadata": {
    "id": "VID3JVPMm_rx"
   },
   "outputs": [],
   "source": [
    "lr = LinearRegression().fit(X_train, y_train)"
   ]
  },
  {
   "cell_type": "markdown",
   "metadata": {},
   "source": [
    "Taking the last 25 days crime rate to be predicted"
   ]
  },
  {
   "cell_type": "code",
   "execution_count": 24,
   "metadata": {
    "colab": {
     "base_uri": "https://localhost:8080/"
    },
    "id": "uSal0jxAjnU6",
    "outputId": "c40e00f3-8b68-4dbf-fed3-1555800e61ab"
   },
   "outputs": [
    {
     "data": {
      "text/plain": [
       "array([[1268],\n",
       "       [1269],\n",
       "       [1387],\n",
       "       [1308],\n",
       "       [1124],\n",
       "       [1060],\n",
       "       [1235],\n",
       "       [1401],\n",
       "       [1463],\n",
       "       [1410],\n",
       "       [1309],\n",
       "       [1165],\n",
       "       [1090],\n",
       "       [1375],\n",
       "       [1378],\n",
       "       [1371],\n",
       "       [ 776],\n",
       "       [1054],\n",
       "       [1058],\n",
       "       [1021],\n",
       "       [1159],\n",
       "       [1313],\n",
       "       [1412],\n",
       "       [1380],\n",
       "       [1379]])"
      ]
     },
     "execution_count": 24,
     "metadata": {},
     "output_type": "execute_result"
    }
   ],
   "source": [
    "pred= yr.drop(['Prediction'], axis = 1)[:-days_to_predict]\n",
    "pred = pred.tail(days_to_predict)\n",
    "pred = np.array(pred)\n",
    "pred"
   ]
  },
  {
   "cell_type": "markdown",
   "metadata": {},
   "source": [
    "**Predicting the SVM and Linear Regresion Models**"
   ]
  },
  {
   "cell_type": "code",
   "execution_count": 25,
   "metadata": {
    "colab": {
     "base_uri": "https://localhost:8080/"
    },
    "id": "es19CynDkKRa",
    "outputId": "a794503e-7f5b-4fc2-a4df-c778e12102db"
   },
   "outputs": [
    {
     "data": {
      "text/plain": [
       "array([1161.76663013, 1114.1001149 , 1243.89987804, 1353.8998093 ,\n",
       "       1396.90029466, 1294.89980679, 1475.66631299, 1352.32939802,\n",
       "       1191.09998737, 1280.89961533, 1249.80353328, 1247.10004315,\n",
       "       1228.91362447, 1286.89999171, 1126.46164343, 1231.03891133,\n",
       "       1223.10007736, 1110.43546887,  745.10011902, 1212.09997996,\n",
       "       1404.78979802, 1147.10005084, 1419.20324512, 1152.18048611,\n",
       "       1130.88945871])"
      ]
     },
     "execution_count": 25,
     "metadata": {},
     "output_type": "execute_result"
    }
   ],
   "source": [
    "svm_pred = svr.predict(pred)\n",
    "svm_pred"
   ]
  },
  {
   "cell_type": "code",
   "execution_count": 31,
   "metadata": {
    "colab": {
     "base_uri": "https://localhost:8080/"
    },
    "id": "oLxUbvmymziG",
    "outputId": "6232c17f-0176-4bb4-b8be-0edaca1c12ec"
   },
   "outputs": [
    {
     "data": {
      "text/plain": [
       "array([1273.20392033, 1273.15002494, 1266.79036924, 1271.04810484,\n",
       "       1280.96485611, 1284.4141609 , 1274.98246811, 1266.03583382,\n",
       "       1262.6943198 , 1265.55077533, 1270.99420945, 1278.75514523,\n",
       "       1282.79729928, 1267.43711389, 1267.27542773, 1267.65269544,\n",
       "       1299.7204509 , 1284.73753322, 1284.52195167, 1286.516081  ,\n",
       "       1279.07851755, 1270.7786279 , 1265.44298456, 1267.16763695,\n",
       "       1267.22153234])"
      ]
     },
     "execution_count": 31,
     "metadata": {},
     "output_type": "execute_result"
    }
   ],
   "source": [
    "lr_pred = lr.predict(pred)\n",
    "lr_pred"
   ]
  },
  {
   "cell_type": "markdown",
   "metadata": {},
   "source": [
    "**Plottin the Prediction of SVM**"
   ]
  },
  {
   "cell_type": "code",
   "execution_count": 32,
   "metadata": {
    "colab": {
     "base_uri": "https://localhost:8080/",
     "height": 602
    },
    "id": "Pcao-048kVMg",
    "outputId": "0b6b5ecc-cec4-4f1b-8607-19c734d2e059"
   },
   "outputs": [
    {
     "data": {
      "text/plain": [
       "Text(0.5, 1.0, 'SVM')"
      ]
     },
     "execution_count": 32,
     "metadata": {},
     "output_type": "execute_result"
    },
    {
     "data": {
      "image/png": "[encoded data removed]",
      "text/plain": [
       "<Figure size 1152x576 with 1 Axes>"
      ]
     },
     "metadata": {
      "needs_background": "light"
     },
     "output_type": "display_data"
    }
   ],
   "source": [
    "predictions = svm_pred\n",
    "svm_pred_ks = yr[X.shape[0]:]\n",
    "svm_pred_ks['Predictions'] = predictions\n",
    "plt.figure(figsize = (16,8))\n",
    "plt.plot(yr['Crime'])\n",
    "plt.plot(svm_pred_ks[['Crime' , 'Predictions']])\n",
    "plt.legend(['Train' , 'Test' , 'Pred'])\n",
    "plt.title('SVM')"
   ]
  },
  {
   "cell_type": "markdown",
   "metadata": {},
   "source": [
    "**Plotting the Classic Linear Regression Plot and then Plotting it with the Data**"
   ]
  },
  {
   "cell_type": "code",
   "execution_count": 35,
   "metadata": {
    "id": "yQpwFu48pH5o"
   },
   "outputs": [
    {
     "data": {
      "image/png": "[encoded data removed]",
      "text/plain": [
       "<Figure size 640x480 with 1 Axes>"
      ]
     },
     "metadata": {},
     "output_type": "display_data"
    }
   ],
   "source": [
    "plt.style.use('classic')\n",
    "plt.scatter(X_test, y_test,  color='green')\n",
    "plt.plot(pred, lr_pred, color='red', linewidth=2)\n",
    "plt.show()\n"
   ]
  },
  {
   "cell_type": "code",
   "execution_count": 36,
   "metadata": {
    "colab": {
     "base_uri": "https://localhost:8080/",
     "height": 602
    },
    "id": "bIvGi5mZlQFn",
    "outputId": "4359614d-6a12-4d70-8ff2-f6f839b1496a"
   },
   "outputs": [
    {
     "data": {
      "text/plain": [
       "Text(0.5, 1.0, 'Linear Regression')"
      ]
     },
     "execution_count": 36,
     "metadata": {},
     "output_type": "execute_result"
    },
    {
     "data": {
      "image/png": "[encoded data removed]",
      "text/plain": [
       "<Figure size 1280x640 with 1 Axes>"
      ]
     },
     "metadata": {},
     "output_type": "display_data"
    }
   ],
   "source": [
    "predictions = lr_pred\n",
    "lr_pred_ks = yr[X.shape[0]:]\n",
    "lr_pred_ks['Predictions'] = predictions\n",
    "plt.figure(figsize = (16,8))\n",
    "plt.plot(yr['Crime'])\n",
    "plt.plot(lr_pred_ks[['Crime' , 'Predictions']])\n",
    "plt.legend(['Train' , 'Test' , 'Pred'])\n",
    "plt.title('Linear Regression')"
   ]
  },
  {
   "cell_type": "markdown",
   "metadata": {},
   "source": [
    "**Storing the data of the Crime column for the days required**"
   ]
  },
  {
   "cell_type": "code",
   "execution_count": 37,
   "metadata": {
    "colab": {
     "base_uri": "https://localhost:8080/"
    },
    "id": "qNj7Xn0EnJWQ",
    "outputId": "63f77260-94f5-470b-8ecf-55a13d89f05d"
   },
   "outputs": [],
   "source": [
    "X_val = yr['Crime'].values[-days_to_predict:]"
   ]
  },
  {
   "cell_type": "markdown",
   "metadata": {},
   "source": [
    "**R2 Score for SVM and Linear Regression**"
   ]
  },
  {
   "cell_type": "code",
   "execution_count": 38,
   "metadata": {
    "colab": {
     "base_uri": "https://localhost:8080/"
    },
    "id": "ca3h2Z4npg4k",
    "outputId": "8a4065d1-b14b-42a8-c7ea-3f54bf661cdc"
   },
   "outputs": [
    {
     "name": "stdout",
     "output_type": "stream",
     "text": [
      "R2 Score is: 0.06231717953572624\n"
     ]
    }
   ],
   "source": [
    "print('R2 Score is:',r2_score(X_val, svm_pred))"
   ]
  },
  {
   "cell_type": "code",
   "execution_count": 40,
   "metadata": {
    "colab": {
     "base_uri": "https://localhost:8080/"
    },
    "id": "vKuxEaSzpzu_",
    "outputId": "2f72b443-3d30-4a4c-ee6f-691d95848a07"
   },
   "outputs": [
    {
     "name": "stdout",
     "output_type": "stream",
     "text": [
      "R2 Score is -0.8195402169984916\n"
     ]
    }
   ],
   "source": [
    "print('R2 Score is',r2_score(X_val, lr_pred))"
   ]
  },
  {
   "cell_type": "markdown",
   "metadata": {},
   "source": [
    "Root Mean Square Error of SVM and Linear Regression"
   ]
  },
  {
   "cell_type": "code",
   "execution_count": 43,
   "metadata": {
    "colab": {
     "base_uri": "https://localhost:8080/"
    },
    "id": "4SNZqQ6zrnR-",
    "outputId": "83eb6428-9dcd-45bf-90e8-e1fa090a27f0"
   },
   "outputs": [
    {
     "data": {
      "text/plain": [
       "116.45168093862466"
      ]
     },
     "execution_count": 43,
     "metadata": {},
     "output_type": "execute_result"
    }
   ],
   "source": [
    "from math import sqrt\n",
    "mse = mean_squared_error(X_val, svm_pred)\n",
    "rmse = sqrt(mse)\n",
    "rmse"
   ]
  },
  {
   "cell_type": "code",
   "execution_count": 45,
   "metadata": {},
   "outputs": [
    {
     "data": {
      "text/plain": [
       "162.21783905564845"
      ]
     },
     "execution_count": 45,
     "metadata": {},
     "output_type": "execute_result"
    }
   ],
   "source": [
    "from math import sqrt\n",
    "mse = mean_squared_error(X_val, lr_pred)\n",
    "rmse = sqrt(mse)\n",
    "rmse"
   ]
  },
  {
   "cell_type": "markdown",
   "metadata": {},
   "source": [
    "# Algorithm 3 & 4 : Using **K-Nearest Neighbour** and **Decision Tree**, we classified which type of crime complaint was under what Jurisdiction"
   ]
  },
  {
   "cell_type": "markdown",
   "metadata": {},
   "source": [
    "# Data Extraction"
   ]
  },
  {
   "cell_type": "code",
   "execution_count": 46,
   "metadata": {},
   "outputs": [],
   "source": [
    "df3_knn = df"
   ]
  },
  {
   "cell_type": "code",
   "execution_count": 47,
   "metadata": {
    "id": "tPUszDoZrp14"
   },
   "outputs": [
    {
     "data": {
      "text/html": [
       "<div>\n",
       "<style scoped>\n",
       "    .dataframe tbody tr th:only-of-type {\n",
       "        vertical-align: middle;\n",
       "    }\n",
       "\n",
       "    .dataframe tbody tr th {\n",
       "        vertical-align: top;\n",
       "    }\n",
       "\n",
       "    .dataframe thead th {\n",
       "        text-align: right;\n",
       "    }\n",
       "</style>\n",
       "<table border=\"1\" class=\"dataframe\">\n",
       "  <thead>\n",
       "    <tr style=\"text-align: right;\">\n",
       "      <th></th>\n",
       "      <th>CMPLNT_NUM</th>\n",
       "      <th>CMPLNT_FR_DT</th>\n",
       "      <th>CMPLNT_FR_TM</th>\n",
       "      <th>ADDR_PCT_CD</th>\n",
       "      <th>RPT_DT</th>\n",
       "      <th>KY_CD</th>\n",
       "      <th>OFNS_DESC</th>\n",
       "      <th>PD_DESC</th>\n",
       "      <th>CRM_ATPT_CPTD_CD</th>\n",
       "      <th>LAW_CAT_CD</th>\n",
       "      <th>BORO_NM</th>\n",
       "      <th>JURIS_DESC</th>\n",
       "      <th>Latitude</th>\n",
       "      <th>Longitude</th>\n",
       "      <th>PATROL_BORO</th>\n",
       "      <th>VIC_RACE</th>\n",
       "      <th>VIC_SEX</th>\n",
       "    </tr>\n",
       "  </thead>\n",
       "  <tbody>\n",
       "    <tr>\n",
       "      <th>0</th>\n",
       "      <td>394506329</td>\n",
       "      <td>12/31/2019</td>\n",
       "      <td>17:30:00</td>\n",
       "      <td>32.0</td>\n",
       "      <td>12/31/2019</td>\n",
       "      <td>118</td>\n",
       "      <td>DANGEROUS WEAPONS</td>\n",
       "      <td>WEAPONS POSSESSION 3</td>\n",
       "      <td>COMPLETED</td>\n",
       "      <td>FELONY</td>\n",
       "      <td>MANHATTAN</td>\n",
       "      <td>N.Y. POLICE DEPT</td>\n",
       "      <td>40.820927</td>\n",
       "      <td>-73.943324</td>\n",
       "      <td>PATROL BORO MAN NORTH</td>\n",
       "      <td>UNKNOWN</td>\n",
       "      <td>E</td>\n",
       "    </tr>\n",
       "    <tr>\n",
       "      <th>1</th>\n",
       "      <td>968873685</td>\n",
       "      <td>12/29/2019</td>\n",
       "      <td>16:31:00</td>\n",
       "      <td>47.0</td>\n",
       "      <td>12/29/2019</td>\n",
       "      <td>113</td>\n",
       "      <td>FORGERY</td>\n",
       "      <td>FORGERY,ETC.,UNCLASSIFIED-FELO</td>\n",
       "      <td>COMPLETED</td>\n",
       "      <td>FELONY</td>\n",
       "      <td>BRONX</td>\n",
       "      <td>N.Y. POLICE DEPT</td>\n",
       "      <td>40.885701</td>\n",
       "      <td>-73.861640</td>\n",
       "      <td>PATROL BORO BRONX</td>\n",
       "      <td>UNKNOWN</td>\n",
       "      <td>E</td>\n",
       "    </tr>\n",
       "    <tr>\n",
       "      <th>2</th>\n",
       "      <td>509837549</td>\n",
       "      <td>12/15/2019</td>\n",
       "      <td>18:45:00</td>\n",
       "      <td>109.0</td>\n",
       "      <td>12/29/2019</td>\n",
       "      <td>578</td>\n",
       "      <td>HARRASSMENT 2</td>\n",
       "      <td>HARASSMENT,SUBD 3,4,5</td>\n",
       "      <td>COMPLETED</td>\n",
       "      <td>VIOLATION</td>\n",
       "      <td>QUEENS</td>\n",
       "      <td>N.Y. POLICE DEPT</td>\n",
       "      <td>40.742281</td>\n",
       "      <td>-73.819824</td>\n",
       "      <td>PATROL BORO QUEENS NORTH</td>\n",
       "      <td>WHITE HISPANIC</td>\n",
       "      <td>F</td>\n",
       "    </tr>\n",
       "    <tr>\n",
       "      <th>3</th>\n",
       "      <td>352454313</td>\n",
       "      <td>12/28/2019</td>\n",
       "      <td>01:00:00</td>\n",
       "      <td>47.0</td>\n",
       "      <td>12/28/2019</td>\n",
       "      <td>126</td>\n",
       "      <td>MISCELLANEOUS PENAL LAW</td>\n",
       "      <td>RECKLESS ENDANGERMENT 1</td>\n",
       "      <td>COMPLETED</td>\n",
       "      <td>FELONY</td>\n",
       "      <td>BRONX</td>\n",
       "      <td>N.Y. POLICE DEPT</td>\n",
       "      <td>40.875311</td>\n",
       "      <td>-73.847545</td>\n",
       "      <td>PATROL BORO BRONX</td>\n",
       "      <td>UNKNOWN</td>\n",
       "      <td>E</td>\n",
       "    </tr>\n",
       "    <tr>\n",
       "      <th>4</th>\n",
       "      <td>248803469</td>\n",
       "      <td>09/05/2008</td>\n",
       "      <td>21:41:00</td>\n",
       "      <td>NaN</td>\n",
       "      <td>09/05/2008</td>\n",
       "      <td>101</td>\n",
       "      <td>MURDER &amp; NON-NEGL. MANSLAUGHTER</td>\n",
       "      <td>NaN</td>\n",
       "      <td>COMPLETED</td>\n",
       "      <td>FELONY</td>\n",
       "      <td>NaN</td>\n",
       "      <td>N.Y. POLICE DEPT</td>\n",
       "      <td>40.698827</td>\n",
       "      <td>-73.938819</td>\n",
       "      <td>NaN</td>\n",
       "      <td>BLACK</td>\n",
       "      <td>M</td>\n",
       "    </tr>\n",
       "    <tr>\n",
       "      <th>...</th>\n",
       "      <td>...</td>\n",
       "      <td>...</td>\n",
       "      <td>...</td>\n",
       "      <td>...</td>\n",
       "      <td>...</td>\n",
       "      <td>...</td>\n",
       "      <td>...</td>\n",
       "      <td>...</td>\n",
       "      <td>...</td>\n",
       "      <td>...</td>\n",
       "      <td>...</td>\n",
       "      <td>...</td>\n",
       "      <td>...</td>\n",
       "      <td>...</td>\n",
       "      <td>...</td>\n",
       "      <td>...</td>\n",
       "      <td>...</td>\n",
       "    </tr>\n",
       "    <tr>\n",
       "      <th>7825494</th>\n",
       "      <td>744350707</td>\n",
       "      <td>12/17/2018</td>\n",
       "      <td>03:00:00</td>\n",
       "      <td>47.0</td>\n",
       "      <td>12/17/2018</td>\n",
       "      <td>348</td>\n",
       "      <td>VEHICLE AND TRAFFIC LAWS</td>\n",
       "      <td>LEAVING SCENE-ACCIDENT-PERSONA</td>\n",
       "      <td>COMPLETED</td>\n",
       "      <td>MISDEMEANOR</td>\n",
       "      <td>BRONX</td>\n",
       "      <td>N.Y. HOUSING POLICE</td>\n",
       "      <td>40.887333</td>\n",
       "      <td>-73.847250</td>\n",
       "      <td>PATROL BORO BRONX</td>\n",
       "      <td>WHITE HISPANIC</td>\n",
       "      <td>F</td>\n",
       "    </tr>\n",
       "    <tr>\n",
       "      <th>7825495</th>\n",
       "      <td>380927470</td>\n",
       "      <td>06/05/2018</td>\n",
       "      <td>23:30:00</td>\n",
       "      <td>43.0</td>\n",
       "      <td>06/07/2018</td>\n",
       "      <td>110</td>\n",
       "      <td>GRAND LARCENY OF MOTOR VEHICLE</td>\n",
       "      <td>LARCENY, GRAND OF MOPED</td>\n",
       "      <td>COMPLETED</td>\n",
       "      <td>FELONY</td>\n",
       "      <td>BRONX</td>\n",
       "      <td>N.Y. POLICE DEPT</td>\n",
       "      <td>40.827414</td>\n",
       "      <td>-73.877946</td>\n",
       "      <td>PATROL BORO BRONX</td>\n",
       "      <td>BLACK</td>\n",
       "      <td>M</td>\n",
       "    </tr>\n",
       "    <tr>\n",
       "      <th>7825496</th>\n",
       "      <td>502083804</td>\n",
       "      <td>02/10/2018</td>\n",
       "      <td>08:30:00</td>\n",
       "      <td>42.0</td>\n",
       "      <td>02/10/2018</td>\n",
       "      <td>341</td>\n",
       "      <td>PETIT LARCENY</td>\n",
       "      <td>LARCENY,PETIT FROM OPEN AREAS,</td>\n",
       "      <td>COMPLETED</td>\n",
       "      <td>MISDEMEANOR</td>\n",
       "      <td>BRONX</td>\n",
       "      <td>N.Y. POLICE DEPT</td>\n",
       "      <td>40.834528</td>\n",
       "      <td>-73.903836</td>\n",
       "      <td>PATROL BORO BRONX</td>\n",
       "      <td>BLACK</td>\n",
       "      <td>F</td>\n",
       "    </tr>\n",
       "    <tr>\n",
       "      <th>7825497</th>\n",
       "      <td>609916130</td>\n",
       "      <td>12/11/2018</td>\n",
       "      <td>07:30:00</td>\n",
       "      <td>32.0</td>\n",
       "      <td>12/11/2018</td>\n",
       "      <td>344</td>\n",
       "      <td>ASSAULT 3 &amp; RELATED OFFENSES</td>\n",
       "      <td>ASSAULT 3</td>\n",
       "      <td>COMPLETED</td>\n",
       "      <td>MISDEMEANOR</td>\n",
       "      <td>MANHATTAN</td>\n",
       "      <td>N.Y. POLICE DEPT</td>\n",
       "      <td>40.811812</td>\n",
       "      <td>-73.938329</td>\n",
       "      <td>PATROL BORO MAN NORTH</td>\n",
       "      <td>BLACK</td>\n",
       "      <td>M</td>\n",
       "    </tr>\n",
       "    <tr>\n",
       "      <th>7825498</th>\n",
       "      <td>766425924</td>\n",
       "      <td>05/10/2018</td>\n",
       "      <td>11:30:00</td>\n",
       "      <td>115.0</td>\n",
       "      <td>05/10/2018</td>\n",
       "      <td>341</td>\n",
       "      <td>PETIT LARCENY</td>\n",
       "      <td>LARCENY,PETIT FROM OPEN AREAS,</td>\n",
       "      <td>COMPLETED</td>\n",
       "      <td>MISDEMEANOR</td>\n",
       "      <td>QUEENS</td>\n",
       "      <td>N.Y. POLICE DEPT</td>\n",
       "      <td>40.755616</td>\n",
       "      <td>-73.884903</td>\n",
       "      <td>PATROL BORO QUEENS NORTH</td>\n",
       "      <td>WHITE HISPANIC</td>\n",
       "      <td>F</td>\n",
       "    </tr>\n",
       "  </tbody>\n",
       "</table>\n",
       "<p>7825499 rows × 17 columns</p>\n",
       "</div>"
      ],
      "text/plain": [
       "         CMPLNT_NUM CMPLNT_FR_DT CMPLNT_FR_TM  ADDR_PCT_CD      RPT_DT  KY_CD  \\\n",
       "0         394506329   12/31/2019     17:30:00         32.0  12/31/2019    118   \n",
       "1         968873685   12/29/2019     16:31:00         47.0  12/29/2019    113   \n",
       "2         509837549   12/15/2019     18:45:00        109.0  12/29/2019    578   \n",
       "3         352454313   12/28/2019     01:00:00         47.0  12/28/2019    126   \n",
       "4         248803469   09/05/2008     21:41:00          NaN  09/05/2008    101   \n",
       "...             ...          ...          ...          ...         ...    ...   \n",
       "7825494   744350707   12/17/2018     03:00:00         47.0  12/17/2018    348   \n",
       "7825495   380927470   06/05/2018     23:30:00         43.0  06/07/2018    110   \n",
       "7825496   502083804   02/10/2018     08:30:00         42.0  02/10/2018    341   \n",
       "7825497   609916130   12/11/2018     07:30:00         32.0  12/11/2018    344   \n",
       "7825498   766425924   05/10/2018     11:30:00        115.0  05/10/2018    341   \n",
       "\n",
       "                               OFNS_DESC                         PD_DESC  \\\n",
       "0                      DANGEROUS WEAPONS            WEAPONS POSSESSION 3   \n",
       "1                                FORGERY  FORGERY,ETC.,UNCLASSIFIED-FELO   \n",
       "2                          HARRASSMENT 2           HARASSMENT,SUBD 3,4,5   \n",
       "3                MISCELLANEOUS PENAL LAW         RECKLESS ENDANGERMENT 1   \n",
       "4        MURDER & NON-NEGL. MANSLAUGHTER                             NaN   \n",
       "...                                  ...                             ...   \n",
       "7825494         VEHICLE AND TRAFFIC LAWS  LEAVING SCENE-ACCIDENT-PERSONA   \n",
       "7825495   GRAND LARCENY OF MOTOR VEHICLE         LARCENY, GRAND OF MOPED   \n",
       "7825496                    PETIT LARCENY  LARCENY,PETIT FROM OPEN AREAS,   \n",
       "7825497     ASSAULT 3 & RELATED OFFENSES                       ASSAULT 3   \n",
       "7825498                    PETIT LARCENY  LARCENY,PETIT FROM OPEN AREAS,   \n",
       "\n",
       "        CRM_ATPT_CPTD_CD   LAW_CAT_CD    BORO_NM           JURIS_DESC  \\\n",
       "0              COMPLETED       FELONY  MANHATTAN     N.Y. POLICE DEPT   \n",
       "1              COMPLETED       FELONY      BRONX     N.Y. POLICE DEPT   \n",
       "2              COMPLETED    VIOLATION     QUEENS     N.Y. POLICE DEPT   \n",
       "3              COMPLETED       FELONY      BRONX     N.Y. POLICE DEPT   \n",
       "4              COMPLETED       FELONY        NaN     N.Y. POLICE DEPT   \n",
       "...                  ...          ...        ...                  ...   \n",
       "7825494        COMPLETED  MISDEMEANOR      BRONX  N.Y. HOUSING POLICE   \n",
       "7825495        COMPLETED       FELONY      BRONX     N.Y. POLICE DEPT   \n",
       "7825496        COMPLETED  MISDEMEANOR      BRONX     N.Y. POLICE DEPT   \n",
       "7825497        COMPLETED  MISDEMEANOR  MANHATTAN     N.Y. POLICE DEPT   \n",
       "7825498        COMPLETED  MISDEMEANOR     QUEENS     N.Y. POLICE DEPT   \n",
       "\n",
       "          Latitude  Longitude               PATROL_BORO        VIC_RACE  \\\n",
       "0        40.820927 -73.943324     PATROL BORO MAN NORTH         UNKNOWN   \n",
       "1        40.885701 -73.861640         PATROL BORO BRONX         UNKNOWN   \n",
       "2        40.742281 -73.819824  PATROL BORO QUEENS NORTH  WHITE HISPANIC   \n",
       "3        40.875311 -73.847545         PATROL BORO BRONX         UNKNOWN   \n",
       "4        40.698827 -73.938819                       NaN           BLACK   \n",
       "...            ...        ...                       ...             ...   \n",
       "7825494  40.887333 -73.847250         PATROL BORO BRONX  WHITE HISPANIC   \n",
       "7825495  40.827414 -73.877946         PATROL BORO BRONX           BLACK   \n",
       "7825496  40.834528 -73.903836         PATROL BORO BRONX           BLACK   \n",
       "7825497  40.811812 -73.938329     PATROL BORO MAN NORTH           BLACK   \n",
       "7825498  40.755616 -73.884903  PATROL BORO QUEENS NORTH  WHITE HISPANIC   \n",
       "\n",
       "        VIC_SEX  \n",
       "0             E  \n",
       "1             E  \n",
       "2             F  \n",
       "3             E  \n",
       "4             M  \n",
       "...         ...  \n",
       "7825494       F  \n",
       "7825495       M  \n",
       "7825496       F  \n",
       "7825497       M  \n",
       "7825498       F  \n",
       "\n",
       "[7825499 rows x 17 columns]"
      ]
     },
     "execution_count": 47,
     "metadata": {},
     "output_type": "execute_result"
    }
   ],
   "source": [
    "df3_knn"
   ]
  },
  {
   "cell_type": "markdown",
   "metadata": {},
   "source": [
    "### Checking for Null Values"
   ]
  },
  {
   "cell_type": "code",
   "execution_count": 48,
   "metadata": {},
   "outputs": [
    {
     "name": "stdout",
     "output_type": "stream",
     "text": [
      "(7825499, 17)\n"
     ]
    },
    {
     "data": {
      "text/plain": [
       "CMPLNT_NUM              0\n",
       "JURIS_DESC              0\n",
       "LAW_CAT_CD              0\n",
       "RPT_DT                  0\n",
       "KY_CD                   0\n",
       "CMPLNT_FR_TM           48\n",
       "CRM_ATPT_CPTD_CD      168\n",
       "VIC_SEX               308\n",
       "VIC_RACE              390\n",
       "CMPLNT_FR_DT          655\n",
       "ADDR_PCT_CD          2166\n",
       "PD_DESC              6761\n",
       "PATROL_BORO          7218\n",
       "BORO_NM             12480\n",
       "Latitude            17339\n",
       "Longitude           17339\n",
       "OFNS_DESC           18832\n",
       "dtype: int64"
      ]
     },
     "execution_count": 48,
     "metadata": {},
     "output_type": "execute_result"
    }
   ],
   "source": [
    "print(df3_knn.shape)\n",
    "df3_knn.isnull().sum().sort_values(ascending=True)"
   ]
  },
  {
   "cell_type": "markdown",
   "metadata": {},
   "source": [
    "Since there was no NaN values in the required column we directly use the KY_CD and JURIS_DESC and convert it into a seperate DataFrame"
   ]
  },
  {
   "cell_type": "code",
   "execution_count": 49,
   "metadata": {},
   "outputs": [
    {
     "data": {
      "text/html": [
       "<div>\n",
       "<style scoped>\n",
       "    .dataframe tbody tr th:only-of-type {\n",
       "        vertical-align: middle;\n",
       "    }\n",
       "\n",
       "    .dataframe tbody tr th {\n",
       "        vertical-align: top;\n",
       "    }\n",
       "\n",
       "    .dataframe thead th {\n",
       "        text-align: right;\n",
       "    }\n",
       "</style>\n",
       "<table border=\"1\" class=\"dataframe\">\n",
       "  <thead>\n",
       "    <tr style=\"text-align: right;\">\n",
       "      <th></th>\n",
       "      <th>KY_CD</th>\n",
       "      <th>JURIS_DESC</th>\n",
       "    </tr>\n",
       "  </thead>\n",
       "  <tbody>\n",
       "    <tr>\n",
       "      <th>0</th>\n",
       "      <td>118</td>\n",
       "      <td>N.Y. POLICE DEPT</td>\n",
       "    </tr>\n",
       "    <tr>\n",
       "      <th>1</th>\n",
       "      <td>113</td>\n",
       "      <td>N.Y. POLICE DEPT</td>\n",
       "    </tr>\n",
       "    <tr>\n",
       "      <th>2</th>\n",
       "      <td>578</td>\n",
       "      <td>N.Y. POLICE DEPT</td>\n",
       "    </tr>\n",
       "    <tr>\n",
       "      <th>3</th>\n",
       "      <td>126</td>\n",
       "      <td>N.Y. POLICE DEPT</td>\n",
       "    </tr>\n",
       "    <tr>\n",
       "      <th>4</th>\n",
       "      <td>101</td>\n",
       "      <td>N.Y. POLICE DEPT</td>\n",
       "    </tr>\n",
       "    <tr>\n",
       "      <th>...</th>\n",
       "      <td>...</td>\n",
       "      <td>...</td>\n",
       "    </tr>\n",
       "    <tr>\n",
       "      <th>7825494</th>\n",
       "      <td>348</td>\n",
       "      <td>N.Y. HOUSING POLICE</td>\n",
       "    </tr>\n",
       "    <tr>\n",
       "      <th>7825495</th>\n",
       "      <td>110</td>\n",
       "      <td>N.Y. POLICE DEPT</td>\n",
       "    </tr>\n",
       "    <tr>\n",
       "      <th>7825496</th>\n",
       "      <td>341</td>\n",
       "      <td>N.Y. POLICE DEPT</td>\n",
       "    </tr>\n",
       "    <tr>\n",
       "      <th>7825497</th>\n",
       "      <td>344</td>\n",
       "      <td>N.Y. POLICE DEPT</td>\n",
       "    </tr>\n",
       "    <tr>\n",
       "      <th>7825498</th>\n",
       "      <td>341</td>\n",
       "      <td>N.Y. POLICE DEPT</td>\n",
       "    </tr>\n",
       "  </tbody>\n",
       "</table>\n",
       "<p>7825499 rows × 2 columns</p>\n",
       "</div>"
      ],
      "text/plain": [
       "         KY_CD           JURIS_DESC\n",
       "0          118     N.Y. POLICE DEPT\n",
       "1          113     N.Y. POLICE DEPT\n",
       "2          578     N.Y. POLICE DEPT\n",
       "3          126     N.Y. POLICE DEPT\n",
       "4          101     N.Y. POLICE DEPT\n",
       "...        ...                  ...\n",
       "7825494    348  N.Y. HOUSING POLICE\n",
       "7825495    110     N.Y. POLICE DEPT\n",
       "7825496    341     N.Y. POLICE DEPT\n",
       "7825497    344     N.Y. POLICE DEPT\n",
       "7825498    341     N.Y. POLICE DEPT\n",
       "\n",
       "[7825499 rows x 2 columns]"
      ]
     },
     "execution_count": 49,
     "metadata": {},
     "output_type": "execute_result"
    }
   ],
   "source": [
    "col = ['KY_CD','JURIS_DESC']\n",
    "der_df = pd.DataFrame(df3_knn[col])\n",
    "der_df"
   ]
  },
  {
   "cell_type": "markdown",
   "metadata": {},
   "source": [
    "Using Label Encoder on the column JURIS_DESC"
   ]
  },
  {
   "cell_type": "code",
   "execution_count": 50,
   "metadata": {},
   "outputs": [
    {
     "data": {
      "text/html": [
       "<div>\n",
       "<style scoped>\n",
       "    .dataframe tbody tr th:only-of-type {\n",
       "        vertical-align: middle;\n",
       "    }\n",
       "\n",
       "    .dataframe tbody tr th {\n",
       "        vertical-align: top;\n",
       "    }\n",
       "\n",
       "    .dataframe thead th {\n",
       "        text-align: right;\n",
       "    }\n",
       "</style>\n",
       "<table border=\"1\" class=\"dataframe\">\n",
       "  <thead>\n",
       "    <tr style=\"text-align: right;\">\n",
       "      <th></th>\n",
       "      <th>KY_CD</th>\n",
       "      <th>JURIS_DESC</th>\n",
       "    </tr>\n",
       "  </thead>\n",
       "  <tbody>\n",
       "    <tr>\n",
       "      <th>0</th>\n",
       "      <td>118</td>\n",
       "      <td>9</td>\n",
       "    </tr>\n",
       "    <tr>\n",
       "      <th>1</th>\n",
       "      <td>113</td>\n",
       "      <td>9</td>\n",
       "    </tr>\n",
       "    <tr>\n",
       "      <th>2</th>\n",
       "      <td>578</td>\n",
       "      <td>9</td>\n",
       "    </tr>\n",
       "    <tr>\n",
       "      <th>3</th>\n",
       "      <td>126</td>\n",
       "      <td>9</td>\n",
       "    </tr>\n",
       "    <tr>\n",
       "      <th>4</th>\n",
       "      <td>101</td>\n",
       "      <td>9</td>\n",
       "    </tr>\n",
       "    <tr>\n",
       "      <th>...</th>\n",
       "      <td>...</td>\n",
       "      <td>...</td>\n",
       "    </tr>\n",
       "    <tr>\n",
       "      <th>7825494</th>\n",
       "      <td>348</td>\n",
       "      <td>8</td>\n",
       "    </tr>\n",
       "    <tr>\n",
       "      <th>7825495</th>\n",
       "      <td>110</td>\n",
       "      <td>9</td>\n",
       "    </tr>\n",
       "    <tr>\n",
       "      <th>7825496</th>\n",
       "      <td>341</td>\n",
       "      <td>9</td>\n",
       "    </tr>\n",
       "    <tr>\n",
       "      <th>7825497</th>\n",
       "      <td>344</td>\n",
       "      <td>9</td>\n",
       "    </tr>\n",
       "    <tr>\n",
       "      <th>7825498</th>\n",
       "      <td>341</td>\n",
       "      <td>9</td>\n",
       "    </tr>\n",
       "  </tbody>\n",
       "</table>\n",
       "<p>7825499 rows × 2 columns</p>\n",
       "</div>"
      ],
      "text/plain": [
       "         KY_CD  JURIS_DESC\n",
       "0          118           9\n",
       "1          113           9\n",
       "2          578           9\n",
       "3          126           9\n",
       "4          101           9\n",
       "...        ...         ...\n",
       "7825494    348           8\n",
       "7825495    110           9\n",
       "7825496    341           9\n",
       "7825497    344           9\n",
       "7825498    341           9\n",
       "\n",
       "[7825499 rows x 2 columns]"
      ]
     },
     "execution_count": 50,
     "metadata": {},
     "output_type": "execute_result"
    }
   ],
   "source": [
    "lec = preprocessing.LabelEncoder()\n",
    "e = lec.fit_transform(df['JURIS_DESC'])\n",
    "der_df['JURIS_DESC'] = e\n",
    "der_df"
   ]
  },
  {
   "cell_type": "markdown",
   "metadata": {},
   "source": [
    "Since the data is too large and was taking a long time for execution we shortened the data using iloc. We als assigned the values of X and y"
   ]
  },
  {
   "cell_type": "code",
   "execution_count": 51,
   "metadata": {},
   "outputs": [],
   "source": [
    "der_df = der_df.iloc[:1000000]\n",
    "X = der_df['KY_CD']\n",
    "y = der_df['JURIS_DESC']"
   ]
  },
  {
   "cell_type": "code",
   "execution_count": 52,
   "metadata": {},
   "outputs": [
    {
     "data": {
      "text/plain": [
       "9     894024\n",
       "8      71945\n",
       "12     23193\n",
       "18      3852\n",
       "20      3744\n",
       "2       1242\n",
       "5        494\n",
       "15       488\n",
       "23       394\n",
       "11       232\n",
       "7         93\n",
       "19        57\n",
       "13        46\n",
       "6         45\n",
       "24        42\n",
       "10        39\n",
       "22        35\n",
       "17        14\n",
       "0         14\n",
       "4          5\n",
       "1          2\n",
       "Name: JURIS_DESC, dtype: int64"
      ]
     },
     "execution_count": 52,
     "metadata": {},
     "output_type": "execute_result"
    }
   ],
   "source": [
    "der_df.JURIS_DESC.value_counts()"
   ]
  },
  {
   "cell_type": "markdown",
   "metadata": {},
   "source": [
    "Pie Plotting the unique values of JURIS_DESC"
   ]
  },
  {
   "cell_type": "code",
   "execution_count": 53,
   "metadata": {},
   "outputs": [
    {
     "data": {
      "text/plain": [
       "<AxesSubplot:ylabel='JURIS_DESC'>"
      ]
     },
     "execution_count": 53,
     "metadata": {},
     "output_type": "execute_result"
    },
    {
     "data": {
      "image/png": "[encoded data removed]",
      "text/plain": [
       "<Figure size 3200x800 with 1 Axes>"
      ]
     },
     "metadata": {},
     "output_type": "display_data"
    }
   ],
   "source": [
    "f = plt.figure()\n",
    "f.set_figwidth(40)\n",
    "f.set_figheight(10)\n",
    "der_df.JURIS_DESC.value_counts().plot(kind='pie', autopct='%1.0f%%' )"
   ]
  },
  {
   "cell_type": "markdown",
   "metadata": {},
   "source": [
    "Splitting the data into 80%-20%"
   ]
  },
  {
   "cell_type": "code",
   "execution_count": 54,
   "metadata": {},
   "outputs": [],
   "source": [
    "X_train,X_test, y_train , y_test = train_test_split(X,y,test_size = 0.2 , random_state = 42)"
   ]
  },
  {
   "cell_type": "markdown",
   "metadata": {},
   "source": [
    "Converting X_train and X_test into 2D array"
   ]
  },
  {
   "cell_type": "code",
   "execution_count": 55,
   "metadata": {},
   "outputs": [],
   "source": [
    "X_train = np.array(X_train.values.tolist())\n",
    "X_train = X_train.reshape(-1, 1)\n",
    "X_test = np.array(X_test.values.tolist())\n",
    "X_test = X_test.reshape(-1, 1)"
   ]
  },
  {
   "cell_type": "markdown",
   "metadata": {},
   "source": [
    "Scaling X_train and X_test using Standard Scaler "
   ]
  },
  {
   "cell_type": "code",
   "execution_count": 56,
   "metadata": {},
   "outputs": [],
   "source": [
    "from sklearn.preprocessing import StandardScaler\n",
    "scaler = StandardScaler()\n",
    "X_train = scaler.fit_transform(X_train)\n",
    "X_test = scaler.transform(X_test)"
   ]
  },
  {
   "cell_type": "markdown",
   "metadata": {},
   "source": [
    "Initializing the KNN and Decision Tree Models using the sklearn Modules"
   ]
  },
  {
   "cell_type": "code",
   "execution_count": 57,
   "metadata": {},
   "outputs": [],
   "source": [
    "knn_model = KNeighborsRegressor(n_neighbors=3)\n",
    "tree_pred = DecisionTreeRegressor()"
   ]
  },
  {
   "cell_type": "markdown",
   "metadata": {},
   "source": [
    "using .fit() on both models"
   ]
  },
  {
   "cell_type": "code",
   "execution_count": 58,
   "metadata": {},
   "outputs": [
    {
     "data": {
      "text/plain": [
       "KNeighborsRegressor(n_neighbors=3)"
      ]
     },
     "execution_count": 58,
     "metadata": {},
     "output_type": "execute_result"
    }
   ],
   "source": [
    "knn_model.fit(X_train, y_train)"
   ]
  },
  {
   "cell_type": "code",
   "execution_count": 59,
   "metadata": {},
   "outputs": [
    {
     "data": {
      "text/plain": [
       "DecisionTreeRegressor()"
      ]
     },
     "execution_count": 59,
     "metadata": {},
     "output_type": "execute_result"
    }
   ],
   "source": [
    "tree_pred.fit(X_train, y_train)"
   ]
  },
  {
   "cell_type": "markdown",
   "metadata": {},
   "source": [
    "**Predicting the Models using X_test**"
   ]
  },
  {
   "cell_type": "code",
   "execution_count": 60,
   "metadata": {},
   "outputs": [],
   "source": [
    "train_preds = knn_model.predict(X_test)"
   ]
  },
  {
   "cell_type": "code",
   "execution_count": 61,
   "metadata": {},
   "outputs": [],
   "source": [
    "train_tree = tree_pred.predict(X_test)"
   ]
  },
  {
   "cell_type": "markdown",
   "metadata": {},
   "source": [
    "**Finding the RMSE value of KNN**"
   ]
  },
  {
   "cell_type": "code",
   "execution_count": 62,
   "metadata": {},
   "outputs": [
    {
     "data": {
      "text/plain": [
       "1.171078562693383"
      ]
     },
     "execution_count": 62,
     "metadata": {},
     "output_type": "execute_result"
    }
   ],
   "source": [
    "from math import sqrt\n",
    "mse = mean_squared_error(y_test, train_preds)\n",
    "rmse_knn = sqrt(mse)\n",
    "rmse_knn"
   ]
  },
  {
   "cell_type": "markdown",
   "metadata": {},
   "source": [
    "**Finding the RMSE value of Decision Tree**"
   ]
  },
  {
   "cell_type": "code",
   "execution_count": 86,
   "metadata": {},
   "outputs": [
    {
     "data": {
      "text/plain": [
       "1.1058610705664855"
      ]
     },
     "execution_count": 86,
     "metadata": {},
     "output_type": "execute_result"
    }
   ],
   "source": [
    "from math import sqrt\n",
    "mse = mean_squared_error(y_test, train_tree)\n",
    "rmse = sqrt(mse)\n",
    "rmse"
   ]
  },
  {
   "cell_type": "markdown",
   "metadata": {},
   "source": [
    "# Algorithm 5,6 &7 : Using **K-Means**,**Gaussian Naive Bayes**, **Multinomial Naive Bayes** we classified Crime  using the Crime Description"
   ]
  },
  {
   "cell_type": "markdown",
   "metadata": {},
   "source": [
    "# Data Extraction"
   ]
  },
  {
   "cell_type": "code",
   "execution_count": 64,
   "metadata": {},
   "outputs": [],
   "source": [
    "df_kmeans = df"
   ]
  },
  {
   "cell_type": "markdown",
   "metadata": {},
   "source": [
    "Since the result with the full dataset were very inaccurate we have taken a small part of the dataset"
   ]
  },
  {
   "cell_type": "code",
   "execution_count": 65,
   "metadata": {},
   "outputs": [],
   "source": [
    "df_kmeans = df_kmeans.iloc[:500000]"
   ]
  },
  {
   "cell_type": "markdown",
   "metadata": {},
   "source": [
    "All the unique values ins LAW_CAT_CD column"
   ]
  },
  {
   "cell_type": "code",
   "execution_count": 66,
   "metadata": {},
   "outputs": [
    {
     "data": {
      "text/plain": [
       "array(['FELONY', 'VIOLATION', 'MISDEMEANOR'], dtype=object)"
      ]
     },
     "execution_count": 66,
     "metadata": {},
     "output_type": "execute_result"
    }
   ],
   "source": [
    "df_kmeans.LAW_CAT_CD.unique()"
   ]
  },
  {
   "cell_type": "code",
   "execution_count": 67,
   "metadata": {},
   "outputs": [
    {
     "data": {
      "text/plain": [
       "(357,)"
      ]
     },
     "execution_count": 67,
     "metadata": {},
     "output_type": "execute_result"
    }
   ],
   "source": [
    "df_kmeans.PD_DESC.unique().shape"
   ]
  },
  {
   "cell_type": "markdown",
   "metadata": {},
   "source": [
    "**Using Label Encoder we create a new column and add the encoded values of LAW_CAT_CD**"
   ]
  },
  {
   "cell_type": "code",
   "execution_count": 68,
   "metadata": {},
   "outputs": [
    {
     "data": {
      "text/html": [
       "<div>\n",
       "<style scoped>\n",
       "    .dataframe tbody tr th:only-of-type {\n",
       "        vertical-align: middle;\n",
       "    }\n",
       "\n",
       "    .dataframe tbody tr th {\n",
       "        vertical-align: top;\n",
       "    }\n",
       "\n",
       "    .dataframe thead th {\n",
       "        text-align: right;\n",
       "    }\n",
       "</style>\n",
       "<table border=\"1\" class=\"dataframe\">\n",
       "  <thead>\n",
       "    <tr style=\"text-align: right;\">\n",
       "      <th></th>\n",
       "      <th>CMPLNT_NUM</th>\n",
       "      <th>CMPLNT_FR_DT</th>\n",
       "      <th>CMPLNT_FR_TM</th>\n",
       "      <th>ADDR_PCT_CD</th>\n",
       "      <th>RPT_DT</th>\n",
       "      <th>KY_CD</th>\n",
       "      <th>OFNS_DESC</th>\n",
       "      <th>PD_DESC</th>\n",
       "      <th>CRM_ATPT_CPTD_CD</th>\n",
       "      <th>LAW_CAT_CD</th>\n",
       "      <th>BORO_NM</th>\n",
       "      <th>JURIS_DESC</th>\n",
       "      <th>Latitude</th>\n",
       "      <th>Longitude</th>\n",
       "      <th>PATROL_BORO</th>\n",
       "      <th>VIC_RACE</th>\n",
       "      <th>VIC_SEX</th>\n",
       "      <th>encoded</th>\n",
       "    </tr>\n",
       "  </thead>\n",
       "  <tbody>\n",
       "    <tr>\n",
       "      <th>0</th>\n",
       "      <td>394506329</td>\n",
       "      <td>12/31/2019</td>\n",
       "      <td>17:30:00</td>\n",
       "      <td>32.0</td>\n",
       "      <td>12/31/2019</td>\n",
       "      <td>118</td>\n",
       "      <td>DANGEROUS WEAPONS</td>\n",
       "      <td>WEAPONS POSSESSION 3</td>\n",
       "      <td>COMPLETED</td>\n",
       "      <td>FELONY</td>\n",
       "      <td>MANHATTAN</td>\n",
       "      <td>N.Y. POLICE DEPT</td>\n",
       "      <td>40.820927</td>\n",
       "      <td>-73.943324</td>\n",
       "      <td>PATROL BORO MAN NORTH</td>\n",
       "      <td>UNKNOWN</td>\n",
       "      <td>E</td>\n",
       "      <td>0</td>\n",
       "    </tr>\n",
       "    <tr>\n",
       "      <th>1</th>\n",
       "      <td>968873685</td>\n",
       "      <td>12/29/2019</td>\n",
       "      <td>16:31:00</td>\n",
       "      <td>47.0</td>\n",
       "      <td>12/29/2019</td>\n",
       "      <td>113</td>\n",
       "      <td>FORGERY</td>\n",
       "      <td>FORGERY,ETC.,UNCLASSIFIED-FELO</td>\n",
       "      <td>COMPLETED</td>\n",
       "      <td>FELONY</td>\n",
       "      <td>BRONX</td>\n",
       "      <td>N.Y. POLICE DEPT</td>\n",
       "      <td>40.885701</td>\n",
       "      <td>-73.861640</td>\n",
       "      <td>PATROL BORO BRONX</td>\n",
       "      <td>UNKNOWN</td>\n",
       "      <td>E</td>\n",
       "      <td>0</td>\n",
       "    </tr>\n",
       "    <tr>\n",
       "      <th>2</th>\n",
       "      <td>509837549</td>\n",
       "      <td>12/15/2019</td>\n",
       "      <td>18:45:00</td>\n",
       "      <td>109.0</td>\n",
       "      <td>12/29/2019</td>\n",
       "      <td>578</td>\n",
       "      <td>HARRASSMENT 2</td>\n",
       "      <td>HARASSMENT,SUBD 3,4,5</td>\n",
       "      <td>COMPLETED</td>\n",
       "      <td>VIOLATION</td>\n",
       "      <td>QUEENS</td>\n",
       "      <td>N.Y. POLICE DEPT</td>\n",
       "      <td>40.742281</td>\n",
       "      <td>-73.819824</td>\n",
       "      <td>PATROL BORO QUEENS NORTH</td>\n",
       "      <td>WHITE HISPANIC</td>\n",
       "      <td>F</td>\n",
       "      <td>2</td>\n",
       "    </tr>\n",
       "    <tr>\n",
       "      <th>3</th>\n",
       "      <td>352454313</td>\n",
       "      <td>12/28/2019</td>\n",
       "      <td>01:00:00</td>\n",
       "      <td>47.0</td>\n",
       "      <td>12/28/2019</td>\n",
       "      <td>126</td>\n",
       "      <td>MISCELLANEOUS PENAL LAW</td>\n",
       "      <td>RECKLESS ENDANGERMENT 1</td>\n",
       "      <td>COMPLETED</td>\n",
       "      <td>FELONY</td>\n",
       "      <td>BRONX</td>\n",
       "      <td>N.Y. POLICE DEPT</td>\n",
       "      <td>40.875311</td>\n",
       "      <td>-73.847545</td>\n",
       "      <td>PATROL BORO BRONX</td>\n",
       "      <td>UNKNOWN</td>\n",
       "      <td>E</td>\n",
       "      <td>0</td>\n",
       "    </tr>\n",
       "    <tr>\n",
       "      <th>4</th>\n",
       "      <td>248803469</td>\n",
       "      <td>09/05/2008</td>\n",
       "      <td>21:41:00</td>\n",
       "      <td>NaN</td>\n",
       "      <td>09/05/2008</td>\n",
       "      <td>101</td>\n",
       "      <td>MURDER &amp; NON-NEGL. MANSLAUGHTER</td>\n",
       "      <td>NaN</td>\n",
       "      <td>COMPLETED</td>\n",
       "      <td>FELONY</td>\n",
       "      <td>NaN</td>\n",
       "      <td>N.Y. POLICE DEPT</td>\n",
       "      <td>40.698827</td>\n",
       "      <td>-73.938819</td>\n",
       "      <td>NaN</td>\n",
       "      <td>BLACK</td>\n",
       "      <td>M</td>\n",
       "      <td>0</td>\n",
       "    </tr>\n",
       "    <tr>\n",
       "      <th>...</th>\n",
       "      <td>...</td>\n",
       "      <td>...</td>\n",
       "      <td>...</td>\n",
       "      <td>...</td>\n",
       "      <td>...</td>\n",
       "      <td>...</td>\n",
       "      <td>...</td>\n",
       "      <td>...</td>\n",
       "      <td>...</td>\n",
       "      <td>...</td>\n",
       "      <td>...</td>\n",
       "      <td>...</td>\n",
       "      <td>...</td>\n",
       "      <td>...</td>\n",
       "      <td>...</td>\n",
       "      <td>...</td>\n",
       "      <td>...</td>\n",
       "      <td>...</td>\n",
       "    </tr>\n",
       "    <tr>\n",
       "      <th>499995</th>\n",
       "      <td>338054119</td>\n",
       "      <td>11/21/2021</td>\n",
       "      <td>09:00:00</td>\n",
       "      <td>115.0</td>\n",
       "      <td>12/01/2021</td>\n",
       "      <td>109</td>\n",
       "      <td>GRAND LARCENY</td>\n",
       "      <td>LARCENY,GRAND BY BANK ACCT COMPROMISE-ATM TRAN...</td>\n",
       "      <td>COMPLETED</td>\n",
       "      <td>FELONY</td>\n",
       "      <td>QUEENS</td>\n",
       "      <td>N.Y. POLICE DEPT</td>\n",
       "      <td>40.749707</td>\n",
       "      <td>-73.884776</td>\n",
       "      <td>PATROL BORO QUEENS NORTH</td>\n",
       "      <td>WHITE HISPANIC</td>\n",
       "      <td>F</td>\n",
       "      <td>0</td>\n",
       "    </tr>\n",
       "    <tr>\n",
       "      <th>499996</th>\n",
       "      <td>918918310</td>\n",
       "      <td>05/15/2021</td>\n",
       "      <td>23:15:00</td>\n",
       "      <td>44.0</td>\n",
       "      <td>11/20/2021</td>\n",
       "      <td>578</td>\n",
       "      <td>HARRASSMENT 2</td>\n",
       "      <td>HARASSMENT,SUBD 3,4,5</td>\n",
       "      <td>COMPLETED</td>\n",
       "      <td>VIOLATION</td>\n",
       "      <td>BRONX</td>\n",
       "      <td>N.Y. POLICE DEPT</td>\n",
       "      <td>40.833639</td>\n",
       "      <td>-73.910815</td>\n",
       "      <td>PATROL BORO BRONX</td>\n",
       "      <td>BLACK</td>\n",
       "      <td>M</td>\n",
       "      <td>2</td>\n",
       "    </tr>\n",
       "    <tr>\n",
       "      <th>499997</th>\n",
       "      <td>192170693</td>\n",
       "      <td>11/21/2021</td>\n",
       "      <td>15:21:00</td>\n",
       "      <td>50.0</td>\n",
       "      <td>11/21/2021</td>\n",
       "      <td>578</td>\n",
       "      <td>HARRASSMENT 2</td>\n",
       "      <td>HARASSMENT,SUBD 3,4,5</td>\n",
       "      <td>COMPLETED</td>\n",
       "      <td>VIOLATION</td>\n",
       "      <td>BRONX</td>\n",
       "      <td>N.Y. POLICE DEPT</td>\n",
       "      <td>40.869762</td>\n",
       "      <td>-73.900976</td>\n",
       "      <td>PATROL BORO BRONX</td>\n",
       "      <td>WHITE</td>\n",
       "      <td>M</td>\n",
       "      <td>2</td>\n",
       "    </tr>\n",
       "    <tr>\n",
       "      <th>499998</th>\n",
       "      <td>248472408</td>\n",
       "      <td>11/26/2021</td>\n",
       "      <td>21:00:00</td>\n",
       "      <td>71.0</td>\n",
       "      <td>11/27/2021</td>\n",
       "      <td>344</td>\n",
       "      <td>ASSAULT 3 &amp; RELATED OFFENSES</td>\n",
       "      <td>ASSAULT 3</td>\n",
       "      <td>COMPLETED</td>\n",
       "      <td>MISDEMEANOR</td>\n",
       "      <td>BROOKLYN</td>\n",
       "      <td>N.Y. POLICE DEPT</td>\n",
       "      <td>40.656447</td>\n",
       "      <td>-73.947266</td>\n",
       "      <td>PATROL BORO BKLYN SOUTH</td>\n",
       "      <td>BLACK</td>\n",
       "      <td>M</td>\n",
       "      <td>1</td>\n",
       "    </tr>\n",
       "    <tr>\n",
       "      <th>499999</th>\n",
       "      <td>571442725</td>\n",
       "      <td>11/25/2021</td>\n",
       "      <td>09:10:00</td>\n",
       "      <td>120.0</td>\n",
       "      <td>11/25/2021</td>\n",
       "      <td>578</td>\n",
       "      <td>HARRASSMENT 2</td>\n",
       "      <td>HARASSMENT,SUBD 1,CIVILIAN</td>\n",
       "      <td>COMPLETED</td>\n",
       "      <td>VIOLATION</td>\n",
       "      <td>STATEN ISLAND</td>\n",
       "      <td>N.Y. POLICE DEPT</td>\n",
       "      <td>40.622934</td>\n",
       "      <td>-74.078733</td>\n",
       "      <td>PATROL BORO STATEN ISLAND</td>\n",
       "      <td>BLACK</td>\n",
       "      <td>M</td>\n",
       "      <td>2</td>\n",
       "    </tr>\n",
       "  </tbody>\n",
       "</table>\n",
       "<p>500000 rows × 18 columns</p>\n",
       "</div>"
      ],
      "text/plain": [
       "        CMPLNT_NUM CMPLNT_FR_DT CMPLNT_FR_TM  ADDR_PCT_CD      RPT_DT  KY_CD  \\\n",
       "0        394506329   12/31/2019     17:30:00         32.0  12/31/2019    118   \n",
       "1        968873685   12/29/2019     16:31:00         47.0  12/29/2019    113   \n",
       "2        509837549   12/15/2019     18:45:00        109.0  12/29/2019    578   \n",
       "3        352454313   12/28/2019     01:00:00         47.0  12/28/2019    126   \n",
       "4        248803469   09/05/2008     21:41:00          NaN  09/05/2008    101   \n",
       "...            ...          ...          ...          ...         ...    ...   \n",
       "499995   338054119   11/21/2021     09:00:00        115.0  12/01/2021    109   \n",
       "499996   918918310   05/15/2021     23:15:00         44.0  11/20/2021    578   \n",
       "499997   192170693   11/21/2021     15:21:00         50.0  11/21/2021    578   \n",
       "499998   248472408   11/26/2021     21:00:00         71.0  11/27/2021    344   \n",
       "499999   571442725   11/25/2021     09:10:00        120.0  11/25/2021    578   \n",
       "\n",
       "                              OFNS_DESC  \\\n",
       "0                     DANGEROUS WEAPONS   \n",
       "1                               FORGERY   \n",
       "2                         HARRASSMENT 2   \n",
       "3               MISCELLANEOUS PENAL LAW   \n",
       "4       MURDER & NON-NEGL. MANSLAUGHTER   \n",
       "...                                 ...   \n",
       "499995                    GRAND LARCENY   \n",
       "499996                    HARRASSMENT 2   \n",
       "499997                    HARRASSMENT 2   \n",
       "499998     ASSAULT 3 & RELATED OFFENSES   \n",
       "499999                    HARRASSMENT 2   \n",
       "\n",
       "                                                  PD_DESC CRM_ATPT_CPTD_CD  \\\n",
       "0                                    WEAPONS POSSESSION 3        COMPLETED   \n",
       "1                          FORGERY,ETC.,UNCLASSIFIED-FELO        COMPLETED   \n",
       "2                                   HARASSMENT,SUBD 3,4,5        COMPLETED   \n",
       "3                                 RECKLESS ENDANGERMENT 1        COMPLETED   \n",
       "4                                                     NaN        COMPLETED   \n",
       "...                                                   ...              ...   \n",
       "499995  LARCENY,GRAND BY BANK ACCT COMPROMISE-ATM TRAN...        COMPLETED   \n",
       "499996                              HARASSMENT,SUBD 3,4,5        COMPLETED   \n",
       "499997                              HARASSMENT,SUBD 3,4,5        COMPLETED   \n",
       "499998                                          ASSAULT 3        COMPLETED   \n",
       "499999                         HARASSMENT,SUBD 1,CIVILIAN        COMPLETED   \n",
       "\n",
       "         LAW_CAT_CD        BORO_NM        JURIS_DESC   Latitude  Longitude  \\\n",
       "0            FELONY      MANHATTAN  N.Y. POLICE DEPT  40.820927 -73.943324   \n",
       "1            FELONY          BRONX  N.Y. POLICE DEPT  40.885701 -73.861640   \n",
       "2         VIOLATION         QUEENS  N.Y. POLICE DEPT  40.742281 -73.819824   \n",
       "3            FELONY          BRONX  N.Y. POLICE DEPT  40.875311 -73.847545   \n",
       "4            FELONY            NaN  N.Y. POLICE DEPT  40.698827 -73.938819   \n",
       "...             ...            ...               ...        ...        ...   \n",
       "499995       FELONY         QUEENS  N.Y. POLICE DEPT  40.749707 -73.884776   \n",
       "499996    VIOLATION          BRONX  N.Y. POLICE DEPT  40.833639 -73.910815   \n",
       "499997    VIOLATION          BRONX  N.Y. POLICE DEPT  40.869762 -73.900976   \n",
       "499998  MISDEMEANOR       BROOKLYN  N.Y. POLICE DEPT  40.656447 -73.947266   \n",
       "499999    VIOLATION  STATEN ISLAND  N.Y. POLICE DEPT  40.622934 -74.078733   \n",
       "\n",
       "                      PATROL_BORO        VIC_RACE VIC_SEX  encoded  \n",
       "0           PATROL BORO MAN NORTH         UNKNOWN       E        0  \n",
       "1               PATROL BORO BRONX         UNKNOWN       E        0  \n",
       "2        PATROL BORO QUEENS NORTH  WHITE HISPANIC       F        2  \n",
       "3               PATROL BORO BRONX         UNKNOWN       E        0  \n",
       "4                             NaN           BLACK       M        0  \n",
       "...                           ...             ...     ...      ...  \n",
       "499995   PATROL BORO QUEENS NORTH  WHITE HISPANIC       F        0  \n",
       "499996          PATROL BORO BRONX           BLACK       M        2  \n",
       "499997          PATROL BORO BRONX           WHITE       M        2  \n",
       "499998    PATROL BORO BKLYN SOUTH           BLACK       M        1  \n",
       "499999  PATROL BORO STATEN ISLAND           BLACK       M        2  \n",
       "\n",
       "[500000 rows x 18 columns]"
      ]
     },
     "execution_count": 68,
     "metadata": {},
     "output_type": "execute_result"
    }
   ],
   "source": [
    "lec = preprocessing.LabelEncoder()\n",
    "e = lec.fit_transform(df_kmeans['LAW_CAT_CD'])\n",
    "df_kmeans['encoded'] = e\n",
    "df_kmeans"
   ]
  },
  {
   "cell_type": "markdown",
   "metadata": {},
   "source": [
    "**Creating a new Dataset containg only the required columns**"
   ]
  },
  {
   "cell_type": "code",
   "execution_count": 69,
   "metadata": {},
   "outputs": [],
   "source": [
    "col = ['PD_DESC','LAW_CAT_CD','encoded']\n",
    "df_kmeans = pd.DataFrame(df_kmeans[col])"
   ]
  },
  {
   "cell_type": "markdown",
   "metadata": {},
   "source": [
    "**Creating a function for removing Stopwords,Space and any numerical Value**"
   ]
  },
  {
   "cell_type": "code",
   "execution_count": 70,
   "metadata": {},
   "outputs": [],
   "source": [
    "stemmer = PorterStemmer()\n",
    "STOPWORD = set(stopwords.words('english'))\n",
    "INVALID_SIGNS = re.compile('[^0-9a-z #+_]')\n",
    "SPACE_REPLACE = re.compile('[/(){}\\[\\]\\|@,;]')\n",
    "NO_REMOVE = re.compile('[\\d+]')\n",
    "\n",
    "def stem_text(text):\n",
    "    # standardize text\n",
    "    text = text.lower() \n",
    "\n",
    "    # replace symbols with text\n",
    "    text = SPACE_REPLACE.sub(' ', text) \n",
    "    \n",
    "    # Remove any XXXXX values\n",
    "    text = text.replace('x', '') \n",
    "    \n",
    "    # Remove whitespaces\n",
    "    text = NO_REMOVE.sub('', text)\n",
    "\n",
    "    #  Deleting symbols\n",
    "    text = INVALID_SIGNS.sub('', text) \n",
    "\n",
    "    # Remove StopWords\n",
    "    text = ' '.join(word for word in text.split() if word not in STOPWORD) \n",
    "    \n",
    "    # Words of length less than 2 or more than 21 are removed\n",
    "    text = ' '.join(word for word in text.split() if (len(word) >= 2 and len(word) <= 21))\n",
    "\n",
    "    # Word Stemming\n",
    "    text = ' '.join([stemmer.stem(word) for word in text.split()])\n",
    "    \n",
    "    return text"
   ]
  },
  {
   "cell_type": "markdown",
   "metadata": {},
   "source": [
    "**Applying the dunction on the subset**"
   ]
  },
  {
   "cell_type": "code",
   "execution_count": 71,
   "metadata": {},
   "outputs": [
    {
     "data": {
      "text/plain": [
       "0                                         weapon possess\n",
       "1                           forgeri etc unclassifiedfelo\n",
       "2                                            harass subd\n",
       "3                                      reckless endanger\n",
       "4                                                    nan\n",
       "                               ...                      \n",
       "499995    larceni grand bank acct compromiseatm transact\n",
       "499996                                       harass subd\n",
       "499997                                       harass subd\n",
       "499998                                           assault\n",
       "499999                              harass subd civilian\n",
       "Name: PD_DESC, Length: 500000, dtype: object"
      ]
     },
     "execution_count": 71,
     "metadata": {},
     "output_type": "execute_result"
    }
   ],
   "source": [
    "df_kmeans['PD_DESC'] = df_kmeans['PD_DESC'].astype(str)\n",
    "df_kmeans['PD_DESC'] = df_kmeans['PD_DESC'].apply(stem_text)\n",
    "df_kmeans['PD_DESC']"
   ]
  },
  {
   "cell_type": "markdown",
   "metadata": {},
   "source": [
    "**Since we are having textual data, we convert it to into a TFIDF Matrix using TFIDFVectorizer Function**"
   ]
  },
  {
   "cell_type": "code",
   "execution_count": 72,
   "metadata": {},
   "outputs": [
    {
     "data": {
      "text/html": [
       "<div>\n",
       "<style scoped>\n",
       "    .dataframe tbody tr th:only-of-type {\n",
       "        vertical-align: middle;\n",
       "    }\n",
       "\n",
       "    .dataframe tbody tr th {\n",
       "        vertical-align: top;\n",
       "    }\n",
       "\n",
       "    .dataframe thead th {\n",
       "        text-align: right;\n",
       "    }\n",
       "</style>\n",
       "<table border=\"1\" class=\"dataframe\">\n",
       "  <thead>\n",
       "    <tr style=\"text-align: right;\">\n",
       "      <th></th>\n",
       "      <th>abandon</th>\n",
       "      <th>abandon anim</th>\n",
       "      <th>abus</th>\n",
       "      <th>acc</th>\n",
       "      <th>accessori</th>\n",
       "      <th>accost</th>\n",
       "      <th>accost fraudul</th>\n",
       "      <th>acct</th>\n",
       "      <th>acct compromiseatm</th>\n",
       "      <th>acct compromiseeist</th>\n",
       "      <th>...</th>\n",
       "      <th>violatio</th>\n",
       "      <th>vulner</th>\n",
       "      <th>vulner elderli</th>\n",
       "      <th>weapon</th>\n",
       "      <th>weapon possess</th>\n",
       "      <th>welfar</th>\n",
       "      <th>welfar vulner</th>\n",
       "      <th>worker</th>\n",
       "      <th>worker sleep</th>\n",
       "      <th>ye</th>\n",
       "    </tr>\n",
       "  </thead>\n",
       "  <tbody>\n",
       "    <tr>\n",
       "      <th>0</th>\n",
       "      <td>0.0</td>\n",
       "      <td>0.0</td>\n",
       "      <td>0.0</td>\n",
       "      <td>0.0</td>\n",
       "      <td>0.0</td>\n",
       "      <td>0.0</td>\n",
       "      <td>0.0</td>\n",
       "      <td>0.0</td>\n",
       "      <td>0.0</td>\n",
       "      <td>0.0</td>\n",
       "      <td>...</td>\n",
       "      <td>0.0</td>\n",
       "      <td>0.0</td>\n",
       "      <td>0.0</td>\n",
       "      <td>0.594919</td>\n",
       "      <td>0.594969</td>\n",
       "      <td>0.0</td>\n",
       "      <td>0.0</td>\n",
       "      <td>0.0</td>\n",
       "      <td>0.0</td>\n",
       "      <td>0.0</td>\n",
       "    </tr>\n",
       "    <tr>\n",
       "      <th>1</th>\n",
       "      <td>0.0</td>\n",
       "      <td>0.0</td>\n",
       "      <td>0.0</td>\n",
       "      <td>0.0</td>\n",
       "      <td>0.0</td>\n",
       "      <td>0.0</td>\n",
       "      <td>0.0</td>\n",
       "      <td>0.0</td>\n",
       "      <td>0.0</td>\n",
       "      <td>0.0</td>\n",
       "      <td>...</td>\n",
       "      <td>0.0</td>\n",
       "      <td>0.0</td>\n",
       "      <td>0.0</td>\n",
       "      <td>0.000000</td>\n",
       "      <td>0.000000</td>\n",
       "      <td>0.0</td>\n",
       "      <td>0.0</td>\n",
       "      <td>0.0</td>\n",
       "      <td>0.0</td>\n",
       "      <td>0.0</td>\n",
       "    </tr>\n",
       "    <tr>\n",
       "      <th>2</th>\n",
       "      <td>0.0</td>\n",
       "      <td>0.0</td>\n",
       "      <td>0.0</td>\n",
       "      <td>0.0</td>\n",
       "      <td>0.0</td>\n",
       "      <td>0.0</td>\n",
       "      <td>0.0</td>\n",
       "      <td>0.0</td>\n",
       "      <td>0.0</td>\n",
       "      <td>0.0</td>\n",
       "      <td>...</td>\n",
       "      <td>0.0</td>\n",
       "      <td>0.0</td>\n",
       "      <td>0.0</td>\n",
       "      <td>0.000000</td>\n",
       "      <td>0.000000</td>\n",
       "      <td>0.0</td>\n",
       "      <td>0.0</td>\n",
       "      <td>0.0</td>\n",
       "      <td>0.0</td>\n",
       "      <td>0.0</td>\n",
       "    </tr>\n",
       "    <tr>\n",
       "      <th>3</th>\n",
       "      <td>0.0</td>\n",
       "      <td>0.0</td>\n",
       "      <td>0.0</td>\n",
       "      <td>0.0</td>\n",
       "      <td>0.0</td>\n",
       "      <td>0.0</td>\n",
       "      <td>0.0</td>\n",
       "      <td>0.0</td>\n",
       "      <td>0.0</td>\n",
       "      <td>0.0</td>\n",
       "      <td>...</td>\n",
       "      <td>0.0</td>\n",
       "      <td>0.0</td>\n",
       "      <td>0.0</td>\n",
       "      <td>0.000000</td>\n",
       "      <td>0.000000</td>\n",
       "      <td>0.0</td>\n",
       "      <td>0.0</td>\n",
       "      <td>0.0</td>\n",
       "      <td>0.0</td>\n",
       "      <td>0.0</td>\n",
       "    </tr>\n",
       "    <tr>\n",
       "      <th>4</th>\n",
       "      <td>0.0</td>\n",
       "      <td>0.0</td>\n",
       "      <td>0.0</td>\n",
       "      <td>0.0</td>\n",
       "      <td>0.0</td>\n",
       "      <td>0.0</td>\n",
       "      <td>0.0</td>\n",
       "      <td>0.0</td>\n",
       "      <td>0.0</td>\n",
       "      <td>0.0</td>\n",
       "      <td>...</td>\n",
       "      <td>0.0</td>\n",
       "      <td>0.0</td>\n",
       "      <td>0.0</td>\n",
       "      <td>0.000000</td>\n",
       "      <td>0.000000</td>\n",
       "      <td>0.0</td>\n",
       "      <td>0.0</td>\n",
       "      <td>0.0</td>\n",
       "      <td>0.0</td>\n",
       "      <td>0.0</td>\n",
       "    </tr>\n",
       "  </tbody>\n",
       "</table>\n",
       "<p>5 rows × 717 columns</p>\n",
       "</div>"
      ],
      "text/plain": [
       "   abandon  abandon anim  abus  acc  accessori  accost  accost fraudul  acct  \\\n",
       "0      0.0           0.0   0.0  0.0        0.0     0.0             0.0   0.0   \n",
       "1      0.0           0.0   0.0  0.0        0.0     0.0             0.0   0.0   \n",
       "2      0.0           0.0   0.0  0.0        0.0     0.0             0.0   0.0   \n",
       "3      0.0           0.0   0.0  0.0        0.0     0.0             0.0   0.0   \n",
       "4      0.0           0.0   0.0  0.0        0.0     0.0             0.0   0.0   \n",
       "\n",
       "   acct compromiseatm  acct compromiseeist  ...  violatio  vulner  \\\n",
       "0                 0.0                  0.0  ...       0.0     0.0   \n",
       "1                 0.0                  0.0  ...       0.0     0.0   \n",
       "2                 0.0                  0.0  ...       0.0     0.0   \n",
       "3                 0.0                  0.0  ...       0.0     0.0   \n",
       "4                 0.0                  0.0  ...       0.0     0.0   \n",
       "\n",
       "   vulner elderli    weapon  weapon possess  welfar  welfar vulner  worker  \\\n",
       "0             0.0  0.594919        0.594969     0.0            0.0     0.0   \n",
       "1             0.0  0.000000        0.000000     0.0            0.0     0.0   \n",
       "2             0.0  0.000000        0.000000     0.0            0.0     0.0   \n",
       "3             0.0  0.000000        0.000000     0.0            0.0     0.0   \n",
       "4             0.0  0.000000        0.000000     0.0            0.0     0.0   \n",
       "\n",
       "   worker sleep   ye  \n",
       "0           0.0  0.0  \n",
       "1           0.0  0.0  \n",
       "2           0.0  0.0  \n",
       "3           0.0  0.0  \n",
       "4           0.0  0.0  \n",
       "\n",
       "[5 rows x 717 columns]"
      ]
     },
     "execution_count": 72,
     "metadata": {},
     "output_type": "execute_result"
    }
   ],
   "source": [
    "vectorizer = TfidfVectorizer(sublinear_tf= True, min_df=10, norm='l2', ngram_range=(1, 2), stop_words='english')\n",
    "X_train_vc = vectorizer.fit_transform(df_kmeans[\"PD_DESC\"])\n",
    "\n",
    "pd.DataFrame(X_train_vc.toarray(), columns=vectorizer.get_feature_names_out()).head()"
   ]
  },
  {
   "cell_type": "markdown",
   "metadata": {},
   "source": [
    "**Using the elbow method to determine the number of clusters i.e the values of k**"
   ]
  },
  {
   "cell_type": "code",
   "execution_count": 73,
   "metadata": {},
   "outputs": [
    {
     "data": {
      "image/png": "[encoded data removed]",
      "text/plain": [
       "<Figure size 640x480 with 1 Axes>"
      ]
     },
     "metadata": {},
     "output_type": "display_data"
    }
   ],
   "source": [
    "score = []\n",
    "for i in range(1,11 + 1):\n",
    "    kmeans = KMeans(n_clusters=i,init='k-means++',max_iter=300,n_init=5,random_state=43)\n",
    "    kmeans.fit(X_train_vc)\n",
    "    score.append(kmeans.inertia_)\n",
    "plt.plot(range(1,11 + 1 ),score)\n",
    "plt.title('The Elbow Method')\n",
    "plt.xlabel('Number of clusters')\n",
    "plt.ylabel('Score')\n",
    "plt.savefig('elbow.png')\n",
    "plt.show()"
   ]
  },
  {
   "cell_type": "markdown",
   "metadata": {},
   "source": [
    "**Creating the model of Kmeans and fitting the trained vectorized TFIDF matrix to it**"
   ]
  },
  {
   "cell_type": "code",
   "execution_count": 74,
   "metadata": {},
   "outputs": [],
   "source": [
    "k_clusters = 3\n",
    "\n",
    "model = KMeans(n_clusters=k_clusters, init='k-means++', n_init=10, max_iter=600, tol=0.000001, random_state=0)\n",
    "var = model.fit(X_train_vc)"
   ]
  },
  {
   "cell_type": "markdown",
   "metadata": {},
   "source": [
    "**Predicting the model**"
   ]
  },
  {
   "cell_type": "code",
   "execution_count": 75,
   "metadata": {},
   "outputs": [],
   "source": [
    "category = model.predict(X_train_vc)"
   ]
  },
  {
   "cell_type": "markdown",
   "metadata": {},
   "source": [
    "**Create a new column to display the predicted result**"
   ]
  },
  {
   "cell_type": "code",
   "execution_count": 76,
   "metadata": {},
   "outputs": [
    {
     "data": {
      "text/html": [
       "<div>\n",
       "<style scoped>\n",
       "    .dataframe tbody tr th:only-of-type {\n",
       "        vertical-align: middle;\n",
       "    }\n",
       "\n",
       "    .dataframe tbody tr th {\n",
       "        vertical-align: top;\n",
       "    }\n",
       "\n",
       "    .dataframe thead th {\n",
       "        text-align: right;\n",
       "    }\n",
       "</style>\n",
       "<table border=\"1\" class=\"dataframe\">\n",
       "  <thead>\n",
       "    <tr style=\"text-align: right;\">\n",
       "      <th></th>\n",
       "      <th>PD_DESC</th>\n",
       "      <th>LAW_CAT_CD</th>\n",
       "      <th>encoded</th>\n",
       "      <th>Categorized</th>\n",
       "    </tr>\n",
       "  </thead>\n",
       "  <tbody>\n",
       "    <tr>\n",
       "      <th>0</th>\n",
       "      <td>weapon possess</td>\n",
       "      <td>FELONY</td>\n",
       "      <td>0</td>\n",
       "      <td>0</td>\n",
       "    </tr>\n",
       "    <tr>\n",
       "      <th>1</th>\n",
       "      <td>forgeri etc unclassifiedfelo</td>\n",
       "      <td>FELONY</td>\n",
       "      <td>0</td>\n",
       "      <td>0</td>\n",
       "    </tr>\n",
       "    <tr>\n",
       "      <th>2</th>\n",
       "      <td>harass subd</td>\n",
       "      <td>VIOLATION</td>\n",
       "      <td>2</td>\n",
       "      <td>1</td>\n",
       "    </tr>\n",
       "    <tr>\n",
       "      <th>3</th>\n",
       "      <td>reckless endanger</td>\n",
       "      <td>FELONY</td>\n",
       "      <td>0</td>\n",
       "      <td>0</td>\n",
       "    </tr>\n",
       "    <tr>\n",
       "      <th>4</th>\n",
       "      <td>nan</td>\n",
       "      <td>FELONY</td>\n",
       "      <td>0</td>\n",
       "      <td>0</td>\n",
       "    </tr>\n",
       "    <tr>\n",
       "      <th>5</th>\n",
       "      <td>burglari resid night</td>\n",
       "      <td>FELONY</td>\n",
       "      <td>0</td>\n",
       "      <td>0</td>\n",
       "    </tr>\n",
       "    <tr>\n",
       "      <th>6</th>\n",
       "      <td>control substanc sale</td>\n",
       "      <td>FELONY</td>\n",
       "      <td>0</td>\n",
       "      <td>0</td>\n",
       "    </tr>\n",
       "    <tr>\n",
       "      <th>7</th>\n",
       "      <td>larceni petit auto</td>\n",
       "      <td>MISDEMEANOR</td>\n",
       "      <td>1</td>\n",
       "      <td>0</td>\n",
       "    </tr>\n",
       "    <tr>\n",
       "      <th>8</th>\n",
       "      <td>aggrav harass</td>\n",
       "      <td>MISDEMEANOR</td>\n",
       "      <td>1</td>\n",
       "      <td>1</td>\n",
       "    </tr>\n",
       "    <tr>\n",
       "      <th>9</th>\n",
       "      <td>larceni petit auto</td>\n",
       "      <td>MISDEMEANOR</td>\n",
       "      <td>1</td>\n",
       "      <td>0</td>\n",
       "    </tr>\n",
       "    <tr>\n",
       "      <th>10</th>\n",
       "      <td>larceni grand storeshopl</td>\n",
       "      <td>FELONY</td>\n",
       "      <td>0</td>\n",
       "      <td>0</td>\n",
       "    </tr>\n",
       "    <tr>\n",
       "      <th>11</th>\n",
       "      <td>larceni petit acquir lo</td>\n",
       "      <td>MISDEMEANOR</td>\n",
       "      <td>1</td>\n",
       "      <td>0</td>\n",
       "    </tr>\n",
       "    <tr>\n",
       "      <th>12</th>\n",
       "      <td>forgeri etc unclassifiedfelo</td>\n",
       "      <td>FELONY</td>\n",
       "      <td>0</td>\n",
       "      <td>0</td>\n",
       "    </tr>\n",
       "    <tr>\n",
       "      <th>13</th>\n",
       "      <td>nan</td>\n",
       "      <td>FELONY</td>\n",
       "      <td>0</td>\n",
       "      <td>0</td>\n",
       "    </tr>\n",
       "    <tr>\n",
       "      <th>14</th>\n",
       "      <td>assault unclassifi</td>\n",
       "      <td>FELONY</td>\n",
       "      <td>0</td>\n",
       "      <td>2</td>\n",
       "    </tr>\n",
       "    <tr>\n",
       "      <th>15</th>\n",
       "      <td>obstr breath circul</td>\n",
       "      <td>MISDEMEANOR</td>\n",
       "      <td>1</td>\n",
       "      <td>0</td>\n",
       "    </tr>\n",
       "    <tr>\n",
       "      <th>16</th>\n",
       "      <td>burglari resid night</td>\n",
       "      <td>FELONY</td>\n",
       "      <td>0</td>\n",
       "      <td>0</td>\n",
       "    </tr>\n",
       "    <tr>\n",
       "      <th>17</th>\n",
       "      <td>larceni petit open area</td>\n",
       "      <td>MISDEMEANOR</td>\n",
       "      <td>1</td>\n",
       "      <td>0</td>\n",
       "    </tr>\n",
       "    <tr>\n",
       "      <th>18</th>\n",
       "      <td>arson</td>\n",
       "      <td>FELONY</td>\n",
       "      <td>0</td>\n",
       "      <td>0</td>\n",
       "    </tr>\n",
       "    <tr>\n",
       "      <th>19</th>\n",
       "      <td>larceni petit storeshopl</td>\n",
       "      <td>MISDEMEANOR</td>\n",
       "      <td>1</td>\n",
       "      <td>0</td>\n",
       "    </tr>\n",
       "  </tbody>\n",
       "</table>\n",
       "</div>"
      ],
      "text/plain": [
       "                         PD_DESC   LAW_CAT_CD  encoded  Categorized\n",
       "0                 weapon possess       FELONY        0            0\n",
       "1   forgeri etc unclassifiedfelo       FELONY        0            0\n",
       "2                    harass subd    VIOLATION        2            1\n",
       "3              reckless endanger       FELONY        0            0\n",
       "4                            nan       FELONY        0            0\n",
       "5           burglari resid night       FELONY        0            0\n",
       "6          control substanc sale       FELONY        0            0\n",
       "7             larceni petit auto  MISDEMEANOR        1            0\n",
       "8                  aggrav harass  MISDEMEANOR        1            1\n",
       "9             larceni petit auto  MISDEMEANOR        1            0\n",
       "10      larceni grand storeshopl       FELONY        0            0\n",
       "11       larceni petit acquir lo  MISDEMEANOR        1            0\n",
       "12  forgeri etc unclassifiedfelo       FELONY        0            0\n",
       "13                           nan       FELONY        0            0\n",
       "14            assault unclassifi       FELONY        0            2\n",
       "15           obstr breath circul  MISDEMEANOR        1            0\n",
       "16          burglari resid night       FELONY        0            0\n",
       "17       larceni petit open area  MISDEMEANOR        1            0\n",
       "18                         arson       FELONY        0            0\n",
       "19      larceni petit storeshopl  MISDEMEANOR        1            0"
      ]
     },
     "execution_count": 76,
     "metadata": {},
     "output_type": "execute_result"
    }
   ],
   "source": [
    "df_kmeans[\"Categorized\"] = category\n",
    "df_kmeans.head(20)"
   ]
  },
  {
   "cell_type": "markdown",
   "metadata": {},
   "source": [
    "**K-Means accuracy**"
   ]
  },
  {
   "cell_type": "code",
   "execution_count": 77,
   "metadata": {},
   "outputs": [
    {
     "name": "stdout",
     "output_type": "stream",
     "text": [
      "159158 were correctly labelled out of 500000\n",
      "0.318316\n"
     ]
    }
   ],
   "source": [
    "acc = len(df_kmeans.loc[(df_kmeans['encoded'] == df_kmeans['Categorized'])])\n",
    "print('%d were correctly labelled out of %d' %(acc,len(df_kmeans)))\n",
    "accuracy_K = accuracy_score(df_kmeans['Categorized'],df_kmeans['encoded'])\n",
    "print(accuracy_K)"
   ]
  },
  {
   "cell_type": "markdown",
   "metadata": {},
   "source": [
    "**Using PCA for plotting the clusters**"
   ]
  },
  {
   "cell_type": "code",
   "execution_count": 78,
   "metadata": {},
   "outputs": [],
   "source": [
    "pca = PCA(n_components=2)\n",
    "scatter_plot_points = pca.fit_transform(X_train_vc.toarray())"
   ]
  },
  {
   "cell_type": "code",
   "execution_count": 79,
   "metadata": {},
   "outputs": [
    {
     "data": {
      "text/plain": [
       "<matplotlib.collections.PathCollection at 0x7fe0a1f0dc40>"
      ]
     },
     "execution_count": 79,
     "metadata": {},
     "output_type": "execute_result"
    },
    {
     "data": {
      "image/png": "[encoded data removed]",
      "text/plain": [
       "<Figure size 1600x800 with 1 Axes>"
      ]
     },
     "metadata": {},
     "output_type": "display_data"
    }
   ],
   "source": [
    "colors = [\"r\", \"b\", \"g\"]\n",
    "\n",
    "x_axis = [z[0] for z in scatter_plot_points]\n",
    "y_axis = [z[1] for z in scatter_plot_points]\n",
    "fig, ax = plt.subplots(figsize=(20,10))\n",
    "\n",
    "ax.scatter(x_axis, y_axis, c=[colors[d] for d in category])"
   ]
  },
  {
   "cell_type": "markdown",
   "metadata": {},
   "source": [
    "**Splitting the data into 80%-20%**"
   ]
  },
  {
   "cell_type": "code",
   "execution_count": 80,
   "metadata": {},
   "outputs": [],
   "source": [
    "X_train, X_test, Y_train, Y_test = train_test_split(df_kmeans['encoded'],df_kmeans['PD_DESC'],test_size=0.2,random_state=42)"
   ]
  },
  {
   "cell_type": "markdown",
   "metadata": {},
   "source": [
    "**Finding the shape and  vectorizing the the texts from Y i.e PD_DESC**"
   ]
  },
  {
   "cell_type": "code",
   "execution_count": 81,
   "metadata": {},
   "outputs": [
    {
     "name": "stdout",
     "output_type": "stream",
     "text": [
      "(400000,)\n",
      "(100000,)\n",
      "(400000,)\n",
      "(100000,)\n"
     ]
    }
   ],
   "source": [
    "print(X_train.shape)\n",
    "print(X_test.shape)\n",
    "print(Y_train.shape)\n",
    "print(Y_test.shape)"
   ]
  },
  {
   "cell_type": "code",
   "execution_count": 82,
   "metadata": {},
   "outputs": [],
   "source": [
    "Y_train= Y_train.astype(str)\n",
    "Y_train = vectorizer.transform(Y_train)\n",
    "Y_train = Y_train.toarray()\n",
    "Y_test= Y_test.astype(str)\n",
    "Y_test = vectorizer.transform(Y_test)\n",
    "Y_test = Y_test.toarray()"
   ]
  },
  {
   "cell_type": "markdown",
   "metadata": {},
   "source": [
    "**Using Gaussian Naive Bayes on the data and thus finding its accuracy**"
   ]
  },
  {
   "cell_type": "code",
   "execution_count": 83,
   "metadata": {},
   "outputs": [
    {
     "name": "stdout",
     "output_type": "stream",
     "text": [
      "0.96202\n"
     ]
    }
   ],
   "source": [
    "gnb = GaussianNB()\n",
    "gnb.fit(Y_train,X_train)\n",
    "X_predict = gnb.predict(Y_test)\n",
    "accuracy_NB = accuracy_score(X_test,X_predict)\n",
    "print(accuracy_NB)"
   ]
  },
  {
   "cell_type": "markdown",
   "metadata": {},
   "source": [
    "**Using Multinomial Naive Bayes on the data and thus finding its accuracy**"
   ]
  },
  {
   "cell_type": "code",
   "execution_count": 84,
   "metadata": {},
   "outputs": [
    {
     "name": "stdout",
     "output_type": "stream",
     "text": [
      "0.9734\n"
     ]
    }
   ],
   "source": [
    "mnb = MultinomialNB()\n",
    "mnb.fit(Y_train,X_train)\n",
    "X_predict = mnb.predict(Y_test)\n",
    "accuracy_MNB = accuracy_score(X_test,X_predict)\n",
    "print(accuracy_MNB)"
   ]
  },
  {
   "cell_type": "markdown",
   "metadata": {},
   "source": [
    "**Comparing the accuracy of all the three algorithms used for Classification of Crime**"
   ]
  },
  {
   "cell_type": "code",
   "execution_count": 85,
   "metadata": {},
   "outputs": [
    {
     "data": {
      "image/png": "[encoded data removed]",
      "text/plain": [
       "<Figure size 800x400 with 1 Axes>"
      ]
     },
     "metadata": {},
     "output_type": "display_data"
    }
   ],
   "source": [
    "labels = ['K_Means','GaussianNB','MultinomialNB']\n",
    "values = [accuracy_K,accuracy_NB,accuracy_MNB]\n",
    "  \n",
    "fig = plt.figure(figsize = (10, 5))\n",
    " \n",
    "# creating the bar plot\n",
    "plt.bar(labels, values, color ='maroon',width = 0.4)\n",
    " \n",
    "plt.xlabel(\"Algorithm Names\")\n",
    "plt.ylabel(\"Accuracy Percent\")\n",
    "plt.title(\"Algorithm Accuracy Comparison\")\n",
    "plt.show()"
   ]
  },
  {
   "cell_type": "code",
   "execution_count": null,
   "metadata": {},
   "outputs": [],
   "source": []
  }
 ],
 "metadata": {
  "colab": {
   "provenance": []
  },
  "kernelspec": {
   "display_name": "Python 3 (ipykernel)",
   "language": "python",
   "name": "python3"
  },
  "language_info": {
   "codemirror_mode": {
    "name": "ipython",
    "version": 3
   },
   "file_extension": ".py",
   "mimetype": "text/x-python",
   "name": "python",
   "nbconvert_exporter": "python",
   "pygments_lexer": "ipython3",
   "version": "3.10.9"
  }
 },
 "nbformat": 4,
 "nbformat_minor": 4
}
